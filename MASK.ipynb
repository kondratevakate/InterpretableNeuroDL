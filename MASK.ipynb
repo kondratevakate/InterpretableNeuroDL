{
 "cells": [
  {
   "cell_type": "code",
   "execution_count": 37,
   "metadata": {},
   "outputs": [],
   "source": [
    "import numpy as np\n",
    "import matplotlib.pyplot as plt\n",
    "import pandas as pd\n",
    "import torch\n",
    "import torch.nn as nn\n",
    "import torch.utils.data as torch_data\n",
    "import torch.nn.functional as F\n",
    "import os\n",
    "from sklearn.model_selection import train_test_split, StratifiedKFold\n",
    "from scipy.ndimage import gaussian_filter\n",
    "from torch.autograd import Variable\n",
    "from torch.optim import Adam\n",
    "from inpainter import  SCFEGANInpainter, BlurryInpainter\n",
    "from mri_model import MriNet\n",
    "from mri_model import MriData\n",
    "from nilearn import plotting\n",
    "import nibabel as nib\n",
    "from sklearn.metrics import accuracy_score\n",
    "\n",
    "%matplotlib inline"
   ]
  },
  {
   "cell_type": "code",
   "execution_count": 35,
   "metadata": {},
   "outputs": [
    {
     "name": "stdout",
     "output_type": "stream",
     "text": [
      "(517, 1, 58, 70, 58) (517,)\n"
     ]
    }
   ],
   "source": [
    "X, y = np.load('tensosrs.npy'), np.load('labels.npy')\n",
    "#add dim in X in normal variant\n",
    "# X = np.squeeze(X)\n",
    "print(X.shape, y.shape)"
   ]
  },
  {
   "cell_type": "code",
   "execution_count": 3,
   "metadata": {},
   "outputs": [],
   "source": [
    "# X_train, X_test, y_train, y_test = train_test_split(X, y, test_size=0.2, stratify=y, random_state=42) #may be that's bad idea to split using train_test_split. Instead of it - use indexes of data\n",
    "# train_dataset = MriData(X_train, y_train)\n",
    "# test_dataset = MriData(X_test, y_test)\n",
    "dataset = MriData(X,y)\n",
    "# train_loader = torch.utils.data.DataLoader(train_dataset, batch_size=46, shuffle=True)  #46 - recommended empirical value for batchsize\n",
    "# val_loader = torch.utils.data.DataLoader(test_dataset, batch_size=28, shuffle=False) \n",
    "loader = torch.utils.data.DataLoader(dataset, batch_size=46, shuffle=False)"
   ]
  },
  {
   "cell_type": "code",
   "execution_count": 4,
   "metadata": {},
   "outputs": [],
   "source": [
    "# torch.manual_seed(1)\n",
    "# np.random.seed(1)\n",
    "\n",
    "# c = 32\n",
    "# net = MriNet(c).to(device)\n",
    "# net.load_state_dict(torch.load('./drive/My Drive/5NN/best_model', map_location=device))\n",
    "# net = net.float()\n",
    "# net.eval()\n",
    "# for param in net.parameters():\n",
    "#     param.requires_grad = False\n",
    "device = torch.device('cpu')#'cuda' if torch.cuda.is_available() else\n",
    "torch.manual_seed(1)\n",
    "np.random.seed(1)\n",
    "c = 32\n",
    "net = MriNet(c)\n",
    "net.load_state_dict(torch.load('C:/Users/maxsk/ML/5NN/best_model'))\n",
    "net = net.float()\n",
    "net.to(device)\n",
    "net.eval()\n",
    "for param in net.parameters():\n",
    "    param.requires_grad = False"
   ]
  },
  {
   "cell_type": "code",
   "execution_count": 5,
   "metadata": {},
   "outputs": [],
   "source": [
    "def get_prediction(net, data_loader):\n",
    "    net.eval()\n",
    "    pred_list = []\n",
    "    for data, target in data_loader:\n",
    "        data = data.to(device)\n",
    "        target = target.to(device)\n",
    "\n",
    "        out = net(data)\n",
    "        pred_list.append(out.data.max(1)[1].detach().cpu().numpy()) # get the index of the max log-probability\n",
    "        del data, target\n",
    "    return pred_list"
   ]
  },
  {
   "cell_type": "code",
   "execution_count": 6,
   "metadata": {},
   "outputs": [],
   "source": [
    "pred = np.concatenate(get_prediction(net,loader),axis=0)"
   ]
  },
  {
   "cell_type": "code",
   "execution_count": 10,
   "metadata": {},
   "outputs": [
    {
     "data": {
      "text/plain": [
       "0.8878143133462283"
      ]
     },
     "execution_count": 10,
     "metadata": {},
     "output_type": "execute_result"
    }
   ],
   "source": [
    "accuracy_score(y,pred)"
   ]
  },
  {
   "cell_type": "code",
   "execution_count": 58,
   "metadata": {},
   "outputs": [],
   "source": [
    "# def jittering(img,jit) :\n",
    "#     return np.resize(img,(img.shape[0]+jit,img.shape[1]+jit,img.shape[2]+jit))"
   ]
  },
  {
   "cell_type": "code",
   "execution_count": 7,
   "metadata": {},
   "outputs": [],
   "source": [
    "def upsample(mask, img_size):\n",
    "    x = F.interpolate(mask, size=img_size, mode='trilinear', align_corners=False)\n",
    "    return x"
   ]
  },
  {
   "cell_type": "code",
   "execution_count": 84,
   "metadata": {},
   "outputs": [],
   "source": [
    "def np_to_torch(X,device,img_size,requires_grad = False):\n",
    "    output = torch.from_numpy(X).to(device).reshape(img_size)\n",
    "    return  Variable(output, requires_grad = requires_grad)"
   ]
  },
  {
   "cell_type": "code",
   "execution_count": 12,
   "metadata": {},
   "outputs": [],
   "source": [
    "def tv_norm(x, beta = 1):\n",
    "    d1 = torch.mean(torch.abs(x[:,:,:-1,:,:]-x[:,:,1:,:,:]).pow(beta))\n",
    "    d2 = torch.mean(torch.abs(x[:,:,:,:-1,:]-x[:,:,:,1:,:]).pow(beta))\n",
    "    d3 = torch.mean(torch.abs(x[:,:,:,:,:-1]-x[:,:,:,:,1:]).pow(beta))\n",
    "    tv =  d1+d2+d3\n",
    "    return tv"
   ]
  },
  {
   "cell_type": "code",
   "execution_count": null,
   "metadata": {},
   "outputs": [],
   "source": []
  },
  {
   "cell_type": "code",
   "execution_count": 97,
   "metadata": {},
   "outputs": [
    {
     "name": "stdout",
     "output_type": "stream",
     "text": [
      "0 iteration is finished.\n",
      "1 iteration is finished.\n"
     ]
    }
   ],
   "source": [
    "N, C, D, H, W = X.shape\n",
    "mask_scale = 4\n",
    "# mask_size = (5,7,5)\n",
    "img_change = BlurryInpainter()\n",
    "blur_sigma_img = 10\n",
    "max_iter = 300\n",
    "rw_max = max_iter//5\n",
    "l1_coeff = 20\n",
    "tv_coeff = 5\n",
    "tv_beta = 5\n",
    "# repetition_general = 3\n",
    "# img = img/np.max(img)\n",
    "\n",
    "\n",
    "\n",
    "res = []\n",
    "for i,img in enumerate(X[:2]):\n",
    "    \n",
    "    model_ans = pred[i]\n",
    "    \n",
    "    blur_img = gaussian_filter(img, sigma=10)\n",
    "\n",
    "    mask = torch.ones((1, C, D // mask_scale, H // mask_scale, W // mask_scale)).to(device)\n",
    "    mask = Variable(mask,requires_grad=True)\n",
    "    \n",
    "    optimizer = Adam([mask],0.1, betas=(0.9, 0.99), amsgrad=True)\n",
    "    scheduler = torch.optim.lr_scheduler.StepLR(optimizer, step_size=30, gamma=0.1)\n",
    "    \n",
    "    best_loss, best_mask = float('inf'), None\n",
    "    for epoch in range(max_iter):\n",
    "        \n",
    "        optimizer.zero_grad()\n",
    "#         total_pred_loss, total_reg_loss = 0, 0\n",
    "    #     for _ in range(repetition_general):\n",
    "    #         img = jittering(img,jit)\n",
    "    #         j0 = np.random.randint(jit)\n",
    "    #         j1 = np.random.randint(jit)\n",
    "    #         j2 = np.random.randint(jit)\n",
    "    #         img_jit = img[j0:(image_size[0]+j0),j1:(image_size[1]+j1),j2:(image_size[2]+j2)]\n",
    "    #         blur_img_jit = blur_img[j0:(image_size[0]+j0),j1:(image_size[1]+j1),j2:(image_size[2]+j2)]\n",
    "        img_torch = np_to_torch(img,device,img_size=(1,C,D,H,W))\n",
    "        \n",
    "        mask_up = upsample(mask, img_size=(D, H, W))#mask_blur?\n",
    "    #     blur_torch = img_change.generate_background(img_torch, None)\n",
    "        blur_torch = np_to_torch(blur_img,device,img_size=(1,C,D,H,W))\n",
    "        perturbated_input = img_torch.mul(mask_up)+blur_torch.mul(1-mask_up)\n",
    "        \n",
    "        outputs = net(perturbated_input.float())\n",
    "        prob = torch.exp(outputs)\n",
    "        reg_loss = l1_coeff*torch.mean(torch.abs(1-mask))\n",
    "        pred_loss = F.relu(prob[0, model_ans] - 0.05)\n",
    "        reg_loss += tv_coeff * tv_norm(mask_up, tv_beta)\n",
    "    \n",
    "        rw = 1 if epoch > rw_max else epoch / rw_max\n",
    "        loss = pred_loss + rw *reg_loss  \n",
    "        \n",
    "        if epoch > 50 and loss.item() <= best_loss:  # 10 in original\n",
    "            best_loss = loss.item()\n",
    "            best_mask = mask.clone().detach()\n",
    "    \n",
    "        \n",
    "        loss.backward()\n",
    "        optimizer.step()\n",
    "        scheduler.step(epoch)\n",
    "        mask.data.clamp_(0,1)\n",
    "    if i%1 == 0:\n",
    "        print('{} iteration is finished.'.format(i))\n",
    "    res_mask = upsample((1-best_mask),img_size=(D, H, W))\n",
    "    res_mask = np.where(res_mask>0.3,1,0)\n",
    "    res.append(res_mask)\n",
    "    del mask, optimizer, scheduler, best_loss, best_mask"
   ]
  },
  {
   "cell_type": "code",
   "execution_count": 98,
   "metadata": {},
   "outputs": [
    {
     "data": {
      "text/plain": [
       "(1, 1, 58, 70, 58)"
      ]
     },
     "execution_count": 98,
     "metadata": {},
     "output_type": "execute_result"
    }
   ],
   "source": [
    "X_mask = np.stack(res,axis=0)\n",
    "X_mask =  X_mask.squeeze(axis=1)"
   ]
  },
  {
   "cell_type": "code",
   "execution_count": 101,
   "metadata": {},
   "outputs": [
    {
     "data": {
      "text/plain": [
       "29.0"
      ]
     },
     "execution_count": 101,
     "metadata": {},
     "output_type": "execute_result"
    }
   ],
   "source": [
    "dataset_mask = MriData(X_mask*X,y)\n",
    "loader_mask = torch.utils.data.DataLoader(dataset_mask, batch_size=46, shuffle=False)\n",
    "pred_mask = np.concatenate(get_prediction(net,loader_mask),axis=0)\n",
    "accuracy_score(y,pred_mask)"
   ]
  },
  {
   "cell_type": "code",
   "execution_count": null,
   "metadata": {},
   "outputs": [],
   "source": [
    "a = 0\n",
    "for i, mask in enumerate(X_mask):\n",
    "  a += np.count_nonzero(mask*X[i])\n",
    "total = a / X_mask.shape[0]"
   ]
  },
  {
   "cell_type": "code",
   "execution_count": null,
   "metadata": {},
   "outputs": [],
   "source": [
    "b = 0\n",
    "for i, mask in enumerate(X):\n",
    "  b += np.count_nonzero(mask)\n",
    "total_orig = b / X.shape[0]"
   ]
  },
  {
   "cell_type": "code",
   "execution_count": null,
   "metadata": {},
   "outputs": [],
   "source": []
  },
  {
   "cell_type": "code",
   "execution_count": 102,
   "metadata": {},
   "outputs": [
    {
     "data": {
      "image/png": "[encoded data removed]",
      "text/plain": [
       "<Figure size 475.2x187.2 with 4 Axes>"
      ]
     },
     "metadata": {},
     "output_type": "display_data"
    }
   ],
   "source": [
    "\n",
    "roi_img = nib.Nifti1Image( np.squeeze(res[0]),affine=np.eye(4))\n",
    "bim_img  = nib.Nifti1Image(np.squeeze(X[0]),affine=np.eye(4))\n",
    "plotting.plot_roi(roi_img,bim_img,cut_coords=(35,29,29))\n",
    "plotting.show()"
   ]
  },
  {
   "cell_type": "code",
   "execution_count": 103,
   "metadata": {},
   "outputs": [
    {
     "data": {
      "image/png": "[encoded data removed]",
      "text/plain": [
       "<Figure size 475.2x187.2 with 4 Axes>"
      ]
     },
     "metadata": {},
     "output_type": "display_data"
    }
   ],
   "source": [
    "\n",
    "roi_img = nib.Nifti1Image( np.squeeze(res[1]),affine=np.eye(4))\n",
    "bim_img  = nib.Nifti1Image(np.squeeze(X[1]),affine=np.eye(4))\n",
    "plotting.plot_roi(roi_img,bim_img,cut_coords=(35,29,29))\n",
    "plotting.show()"
   ]
  },
  {
   "cell_type": "code",
   "execution_count": 83,
   "metadata": {},
   "outputs": [
    {
     "data": {
      "image/png": "[encoded data removed]",
      "text/plain": [
       "<Figure size 475.2x187.2 with 4 Axes>"
      ]
     },
     "metadata": {},
     "output_type": "display_data"
    }
   ],
   "source": [
    "data = np.squeeze(upsample((1-best_mask),img_size=(D, H, W)))\n",
    "data = np.where(data>0,1,0)\n",
    "roi_img = nib.Nifti1Image(data,affine=np.eye(4))\n",
    "bim_img  = nib.Nifti1Image(np.squeeze(X[1]),affine=np.eye(4))\n",
    "plotting.plot_roi(roi_img,bim_img)\n",
    "plotting.show()"
   ]
  },
  {
   "cell_type": "code",
   "execution_count": 80,
   "metadata": {},
   "outputs": [
    {
     "data": {
      "image/png": "[encoded data removed]",
      "text/plain": [
       "<Figure size 475.2x187.2 with 4 Axes>"
      ]
     },
     "metadata": {},
     "output_type": "display_data"
    }
   ],
   "source": [
    "\n",
    "\n",
    "data = np.squeeze(upsample((1-best_mask),img_size=(D, H, W)))\n",
    "data = np.where(data>0.9,1,0)\n",
    "roi_img = nib.Nifti1Image(data,affine=np.eye(4))\n",
    "bim_img  = nib.Nifti1Image(np.squeeze(X[1]),affine=np.eye(4))\n",
    "plotting.plot_roi(roi_img,bim_img)\n",
    "plotting.show()"
   ]
  },
  {
   "cell_type": "code",
   "execution_count": 45,
   "metadata": {},
   "outputs": [
    {
     "data": {
      "text/plain": [
       "tensor(0.)"
      ]
     },
     "execution_count": 45,
     "metadata": {},
     "output_type": "execute_result"
    }
   ],
   "source": [
    "best_mask.min()"
   ]
  },
  {
   "cell_type": "code",
   "execution_count": 47,
   "metadata": {},
   "outputs": [
    {
     "data": {
      "text/plain": [
       "tensor(1.)"
      ]
     },
     "execution_count": 47,
     "metadata": {},
     "output_type": "execute_result"
    }
   ],
   "source": [
    "best_mask.max()"
   ]
  },
  {
   "cell_type": "code",
   "execution_count": 46,
   "metadata": {},
   "outputs": [
    {
     "data": {
      "text/plain": [
       "torch.Size([1, 1, 14, 17, 14])"
      ]
     },
     "execution_count": 46,
     "metadata": {},
     "output_type": "execute_result"
    }
   ],
   "source": [
    "best_mask.shape"
   ]
  },
  {
   "cell_type": "code",
   "execution_count": 81,
   "metadata": {},
   "outputs": [
    {
     "data": {
      "text/plain": [
       "tensor([[0.0679, 0.9321]])"
      ]
     },
     "execution_count": 81,
     "metadata": {},
     "output_type": "execute_result"
    }
   ],
   "source": [
    "torch.exp(net( (np_to_torch(X[1],device)).mul(np_to_torch(data,device))))"
   ]
  },
  {
   "cell_type": "code",
   "execution_count": 48,
   "metadata": {},
   "outputs": [
    {
     "data": {
      "text/plain": [
       "tensor([[[[[1.0000, 1.0000, 1.0000,  ..., 1.0000, 1.0000, 1.0000],\n",
       "           [1.0000, 1.0000, 1.0000,  ..., 1.0000, 1.0000, 1.0000],\n",
       "           [1.0000, 1.0000, 1.0000,  ..., 1.0000, 1.0000, 1.0000],\n",
       "           ...,\n",
       "           [1.0000, 1.0000, 1.0000,  ..., 1.0000, 1.0000, 1.0000],\n",
       "           [1.0000, 1.0000, 1.0000,  ..., 1.0000, 1.0000, 1.0000],\n",
       "           [1.0000, 1.0000, 1.0000,  ..., 1.0000, 1.0000, 1.0000]],\n",
       "\n",
       "          [[1.0000, 1.0000, 1.0000,  ..., 1.0000, 1.0000, 1.0000],\n",
       "           [1.0000, 1.0000, 1.0000,  ..., 1.0000, 1.0000, 1.0000],\n",
       "           [1.0000, 1.0000, 1.0000,  ..., 1.0000, 1.0000, 1.0000],\n",
       "           ...,\n",
       "           [1.0000, 1.0000, 1.0000,  ..., 1.0000, 1.0000, 1.0000],\n",
       "           [1.0000, 1.0000, 1.0000,  ..., 1.0000, 1.0000, 1.0000],\n",
       "           [1.0000, 1.0000, 1.0000,  ..., 1.0000, 1.0000, 1.0000]],\n",
       "\n",
       "          [[1.0000, 1.0000, 1.0000,  ..., 1.0000, 1.0000, 1.0000],\n",
       "           [1.0000, 1.0000, 1.0000,  ..., 1.0000, 1.0000, 1.0000],\n",
       "           [1.0000, 1.0000, 1.0000,  ..., 1.0000, 1.0000, 1.0000],\n",
       "           ...,\n",
       "           [1.0000, 1.0000, 1.0000,  ..., 1.0000, 1.0000, 1.0000],\n",
       "           [1.0000, 1.0000, 1.0000,  ..., 1.0000, 1.0000, 1.0000],\n",
       "           [1.0000, 1.0000, 1.0000,  ..., 1.0000, 1.0000, 1.0000]],\n",
       "\n",
       "          ...,\n",
       "\n",
       "          [[1.0000, 1.0000, 1.0000,  ..., 1.0000, 1.0000, 1.0000],\n",
       "           [1.0000, 1.0000, 1.0000,  ..., 1.0000, 1.0000, 1.0000],\n",
       "           [1.0000, 1.0000, 1.0000,  ..., 1.0000, 1.0000, 1.0000],\n",
       "           ...,\n",
       "           [1.0000, 1.0000, 1.0000,  ..., 1.0000, 1.0000, 1.0000],\n",
       "           [1.0000, 1.0000, 1.0000,  ..., 1.0000, 1.0000, 1.0000],\n",
       "           [1.0000, 1.0000, 1.0000,  ..., 1.0000, 1.0000, 1.0000]],\n",
       "\n",
       "          [[1.0000, 1.0000, 1.0000,  ..., 1.0000, 1.0000, 1.0000],\n",
       "           [1.0000, 1.0000, 1.0000,  ..., 1.0000, 1.0000, 1.0000],\n",
       "           [1.0000, 1.0000, 1.0000,  ..., 1.0000, 1.0000, 1.0000],\n",
       "           ...,\n",
       "           [1.0000, 1.0000, 1.0000,  ..., 1.0000, 1.0000, 1.0000],\n",
       "           [1.0000, 1.0000, 1.0000,  ..., 1.0000, 1.0000, 1.0000],\n",
       "           [1.0000, 1.0000, 1.0000,  ..., 1.0000, 1.0000, 1.0000]],\n",
       "\n",
       "          [[1.0000, 1.0000, 1.0000,  ..., 1.0000, 1.0000, 1.0000],\n",
       "           [1.0000, 1.0000, 1.0000,  ..., 1.0000, 1.0000, 1.0000],\n",
       "           [1.0000, 1.0000, 1.0000,  ..., 1.0000, 1.0000, 1.0000],\n",
       "           ...,\n",
       "           [1.0000, 1.0000, 1.0000,  ..., 1.0000, 1.0000, 1.0000],\n",
       "           [1.0000, 1.0000, 1.0000,  ..., 1.0000, 1.0000, 1.0000],\n",
       "           [1.0000, 1.0000, 1.0000,  ..., 1.0000, 1.0000, 1.0000]]]]])"
      ]
     },
     "execution_count": 48,
     "metadata": {},
     "output_type": "execute_result"
    }
   ],
   "source": [
    "best_mask"
   ]
  },
  {
   "cell_type": "code",
   "execution_count": null,
   "metadata": {},
   "outputs": [],
   "source": [
    "# jit = 4\n",
    "# blur_img = gaussian_filter(img, sigma=15)\n",
    "# img = jittering(img,jit)\n",
    "#     j0 = np.random.randint(jit)\n",
    "#     j1 = np.random.randint(jit)\n",
    "#     j2 = np.random.randint(jit)\n",
    "#     img_jit = img[j0:(image_size[0]+j0),j1:(image_size[1]+j1),j2:(image_size[2]+j2)]\n",
    "#     blur_img_jit = blur_img[j0:(image_size[0]+j0),j1:(image_size[1]+j1),j2:(image_size[2]+j2)]\n",
    "    \n",
    "#     mask_blur = gaussian_filter(mask,sigma=2)\n",
    "#     blur_torch = np_to_torch(blur_img,device)\n",
    "    upsample_mask = nn.Upsample(image_size,mode='nearest')(mask.reshape(1,1,5,7,5))"
   ]
  },
  {
   "cell_type": "code",
   "execution_count": 19,
   "metadata": {},
   "outputs": [
    {
     "data": {
      "text/plain": [
       "tensor([[[[[0.0000e+00, 0.0000e+00, 0.0000e+00,  ..., 0.0000e+00,\n",
       "            0.0000e+00, 0.0000e+00],\n",
       "           [0.0000e+00, 5.9873e-01, 0.0000e+00,  ..., 0.0000e+00,\n",
       "            0.0000e+00, 0.0000e+00],\n",
       "           [0.0000e+00, 0.0000e+00, 0.0000e+00,  ..., 0.0000e+00,\n",
       "            0.0000e+00, 0.0000e+00],\n",
       "           ...,\n",
       "           [0.0000e+00, 0.0000e+00, 0.0000e+00,  ..., 0.0000e+00,\n",
       "            0.0000e+00, 0.0000e+00],\n",
       "           [7.7486e-07, 0.0000e+00, 0.0000e+00,  ..., 0.0000e+00,\n",
       "            0.0000e+00, 0.0000e+00],\n",
       "           [0.0000e+00, 0.0000e+00, 0.0000e+00,  ..., 0.0000e+00,\n",
       "            0.0000e+00, 0.0000e+00]],\n",
       "\n",
       "          [[6.4907e-01, 0.0000e+00, 0.0000e+00,  ..., 0.0000e+00,\n",
       "            0.0000e+00, 0.0000e+00],\n",
       "           [7.7486e-07, 2.7704e-01, 8.3974e-01,  ..., 0.0000e+00,\n",
       "            0.0000e+00, 0.0000e+00],\n",
       "           [0.0000e+00, 0.0000e+00, 0.0000e+00,  ..., 0.0000e+00,\n",
       "            0.0000e+00, 0.0000e+00],\n",
       "           ...,\n",
       "           [0.0000e+00, 0.0000e+00, 3.7121e-02,  ..., 0.0000e+00,\n",
       "            0.0000e+00, 0.0000e+00],\n",
       "           [0.0000e+00, 0.0000e+00, 0.0000e+00,  ..., 0.0000e+00,\n",
       "            0.0000e+00, 0.0000e+00],\n",
       "           [0.0000e+00, 0.0000e+00, 0.0000e+00,  ..., 0.0000e+00,\n",
       "            0.0000e+00, 0.0000e+00]],\n",
       "\n",
       "          [[0.0000e+00, 1.7107e-05, 0.0000e+00,  ..., 0.0000e+00,\n",
       "            0.0000e+00, 0.0000e+00],\n",
       "           [0.0000e+00, 1.6219e-01, 0.0000e+00,  ..., 0.0000e+00,\n",
       "            0.0000e+00, 0.0000e+00],\n",
       "           [1.5388e-01, 8.5429e-03, 0.0000e+00,  ..., 0.0000e+00,\n",
       "            0.0000e+00, 0.0000e+00],\n",
       "           ...,\n",
       "           [3.6152e-01, 7.1814e-01, 9.0518e-01,  ..., 0.0000e+00,\n",
       "            0.0000e+00, 0.0000e+00],\n",
       "           [0.0000e+00, 0.0000e+00, 0.0000e+00,  ..., 0.0000e+00,\n",
       "            2.9206e-06, 0.0000e+00],\n",
       "           [0.0000e+00, 0.0000e+00, 0.0000e+00,  ..., 0.0000e+00,\n",
       "            0.0000e+00, 0.0000e+00]],\n",
       "\n",
       "          ...,\n",
       "\n",
       "          [[0.0000e+00, 0.0000e+00, 7.7908e-01,  ..., 0.0000e+00,\n",
       "            0.0000e+00, 0.0000e+00],\n",
       "           [0.0000e+00, 0.0000e+00, 8.3362e-01,  ..., 0.0000e+00,\n",
       "            0.0000e+00, 0.0000e+00],\n",
       "           [3.0251e-01, 0.0000e+00, 6.1855e-01,  ..., 7.0145e-01,\n",
       "            0.0000e+00, 0.0000e+00],\n",
       "           ...,\n",
       "           [0.0000e+00, 3.0363e-01, 3.6654e-01,  ..., 0.0000e+00,\n",
       "            0.0000e+00, 0.0000e+00],\n",
       "           [0.0000e+00, 0.0000e+00, 1.9845e-01,  ..., 0.0000e+00,\n",
       "            0.0000e+00, 0.0000e+00],\n",
       "           [0.0000e+00, 0.0000e+00, 0.0000e+00,  ..., 0.0000e+00,\n",
       "            0.0000e+00, 0.0000e+00]],\n",
       "\n",
       "          [[0.0000e+00, 0.0000e+00, 3.8579e-01,  ..., 0.0000e+00,\n",
       "            0.0000e+00, 0.0000e+00],\n",
       "           [0.0000e+00, 0.0000e+00, 1.8811e-01,  ..., 0.0000e+00,\n",
       "            0.0000e+00, 0.0000e+00],\n",
       "           [0.0000e+00, 0.0000e+00, 7.6236e-01,  ..., 0.0000e+00,\n",
       "            0.0000e+00, 0.0000e+00],\n",
       "           ...,\n",
       "           [0.0000e+00, 0.0000e+00, 0.0000e+00,  ..., 0.0000e+00,\n",
       "            0.0000e+00, 0.0000e+00],\n",
       "           [0.0000e+00, 0.0000e+00, 0.0000e+00,  ..., 0.0000e+00,\n",
       "            0.0000e+00, 0.0000e+00],\n",
       "           [0.0000e+00, 0.0000e+00, 0.0000e+00,  ..., 0.0000e+00,\n",
       "            0.0000e+00, 0.0000e+00]],\n",
       "\n",
       "          [[0.0000e+00, 0.0000e+00, 0.0000e+00,  ..., 0.0000e+00,\n",
       "            0.0000e+00, 0.0000e+00],\n",
       "           [0.0000e+00, 0.0000e+00, 0.0000e+00,  ..., 0.0000e+00,\n",
       "            0.0000e+00, 0.0000e+00],\n",
       "           [0.0000e+00, 0.0000e+00, 0.0000e+00,  ..., 0.0000e+00,\n",
       "            0.0000e+00, 0.0000e+00],\n",
       "           ...,\n",
       "           [0.0000e+00, 0.0000e+00, 0.0000e+00,  ..., 0.0000e+00,\n",
       "            0.0000e+00, 0.0000e+00],\n",
       "           [0.0000e+00, 0.0000e+00, 0.0000e+00,  ..., 0.0000e+00,\n",
       "            0.0000e+00, 0.0000e+00],\n",
       "           [0.0000e+00, 0.0000e+00, 0.0000e+00,  ..., 0.0000e+00,\n",
       "            0.0000e+00, 0.0000e+00]]]]])"
      ]
     },
     "execution_count": 19,
     "metadata": {},
     "output_type": "execute_result"
    }
   ],
   "source": [
    "(1-best_mask)"
   ]
  },
  {
   "cell_type": "code",
   "execution_count": 4,
   "metadata": {},
   "outputs": [],
   "source": [
    "def get_accuracy(net, data_loader):\n",
    "    net.eval()\n",
    "    correct = 0\n",
    "    for data, target in data_loader:\n",
    "        data = data.to(device)\n",
    "        target = target.to(device)\n",
    "\n",
    "        out = net(data)\n",
    "        pred = out.data.max(1)[1] # get the index of the max log-probability\n",
    "        correct += pred.eq(target.data).cpu().sum()\n",
    "        del data, target\n",
    "    accuracy = 100. * correct / len(data_loader.dataset)\n",
    "    return accuracy.item()"
   ]
  },
  {
   "cell_type": "code",
   "execution_count": null,
   "metadata": {},
   "outputs": [],
   "source": []
  },
  {
   "cell_type": "code",
   "execution_count": null,
   "metadata": {},
   "outputs": [],
   "source": []
  },
  {
   "cell_type": "code",
   "execution_count": null,
   "metadata": {},
   "outputs": [],
   "source": []
  },
  {
   "cell_type": "code",
   "execution_count": null,
   "metadata": {},
   "outputs": [],
   "source": []
  },
  {
   "cell_type": "code",
   "execution_count": null,
   "metadata": {},
   "outputs": [],
   "source": []
  },
  {
   "cell_type": "code",
   "execution_count": null,
   "metadata": {},
   "outputs": [],
   "source": []
  },
  {
   "cell_type": "code",
   "execution_count": null,
   "metadata": {},
   "outputs": [],
   "source": []
  },
  {
   "cell_type": "code",
   "execution_count": null,
   "metadata": {},
   "outputs": [],
   "source": []
  },
  {
   "cell_type": "code",
   "execution_count": null,
   "metadata": {},
   "outputs": [],
   "source": []
  },
  {
   "cell_type": "code",
   "execution_count": null,
   "metadata": {},
   "outputs": [],
   "source": []
  }
 ],
 "metadata": {
  "kernelspec": {
   "display_name": "Python 3",
   "language": "python",
   "name": "python3"
  },
  "language_info": {
   "codemirror_mode": {
    "name": "ipython",
    "version": 3
   },
   "file_extension": ".py",
   "mimetype": "text/x-python",
   "name": "python",
   "nbconvert_exporter": "python",
   "pygments_lexer": "ipython3",
   "version": "3.7.3"
  }
 },
 "nbformat": 4,
 "nbformat_minor": 2
}
