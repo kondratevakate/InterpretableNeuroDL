{
  "nbformat": 4,
  "nbformat_minor": 0,
  "metadata": {
    "colab": {
      "name": "training_model.ipynb",
      "provenance": [],
      "collapsed_sections": [],
      "toc_visible": true
    },
    "kernelspec": {
      "name": "python3",
      "display_name": "Python 3"
    },
    "accelerator": "GPU"
  },
  "cells": [
    {
      "cell_type": "code",
      "metadata": {
        "id": "TbVC-fIYcwoA",
        "colab_type": "code",
        "colab": {}
      },
      "source": [
        "import numpy as np\n",
        "import matplotlib.pyplot as plt\n",
        "import pandas as pd\n",
        "import torch\n",
        "import torch.nn as nn\n",
        "import torch.utils.data as torch_data\n",
        "import torch.nn.functional as F\n",
        "from torchsummary import summary\n",
        "import os\n",
        "from sklearn.model_selection import train_test_split\n",
        "from torch.autograd import Variable\n",
        "\n",
        "\n",
        "%matplotlib inline"
      ],
      "execution_count": 0,
      "outputs": []
    },
    {
      "cell_type": "code",
      "metadata": {
        "id": "Ng1IcCer9NSG",
        "colab_type": "code",
        "outputId": "b35f96c4-fef1-453f-e505-d0e6ecc773f6",
        "colab": {
          "base_uri": "https://localhost:8080/",
          "height": 34
        }
      },
      "source": [
        "X, y = np.load('./drive/My Drive/mri_data/tensors.npy'), np.load('./drive/My Drive/mri_data/labels.npy')\n",
        "X = X[:, np.newaxis, :, :, :]\n",
        "print(X.shape, y.shape)"
      ],
      "execution_count": 2,
      "outputs": [
        {
          "output_type": "stream",
          "text": [
            "(517, 1, 58, 70, 58) (517,)\n"
          ],
          "name": "stdout"
        }
      ]
    },
    {
      "cell_type": "code",
      "metadata": {
        "id": "hjalzY4ZylGC",
        "colab_type": "code",
        "colab": {}
      },
      "source": [
        "class MriData(torch.utils.data.Dataset):\n",
        "    def __init__(self, X, y):\n",
        "        super(MriData, self).__init__()\n",
        "        self.X = torch.tensor(X, dtype=torch.float32)\n",
        "        self.y = torch.tensor(y).long()\n",
        "    \n",
        "    def __len__(self):\n",
        "        return self.X.shape[0]\n",
        "    \n",
        "    def __getitem__(self, idx):\n",
        "        return self.X[idx], self.y[idx]"
      ],
      "execution_count": 0,
      "outputs": []
    },
    {
      "cell_type": "code",
      "metadata": {
        "id": "SbrgLdjw3uKQ",
        "colab_type": "code",
        "colab": {}
      },
      "source": [
        "X_train, X_test, y_train, y_test = train_test_split(X, y, test_size=0.2, stratify=y, random_state=42) #may be that's bad idea to split using train_test_split. Instead of it - use indexes of data\n",
        "del X, y #deleting for freeing space on disc\n",
        "\n",
        "train_dataset = MriData(X_train, y_train)\n",
        "test_dataset = MriData(X_test, y_test)\n",
        "del X_train, X_test, y_train, y_test #deleting for freeing space on disc\n"
      ],
      "execution_count": 0,
      "outputs": []
    },
    {
      "cell_type": "code",
      "metadata": {
        "id": "BttsN8kG3YyG",
        "colab_type": "code",
        "colab": {}
      },
      "source": [
        "train_loader = torch.utils.data.DataLoader(train_dataset, batch_size=46, shuffle=True)  #46 - recommended empirical value for batchsize\n",
        "val_loader = torch.utils.data.DataLoader(test_dataset, batch_size=28, shuffle=False) "
      ],
      "execution_count": 0,
      "outputs": []
    },
    {
      "cell_type": "code",
      "metadata": {
        "id": "YTbF3NuselOt",
        "colab_type": "code",
        "colab": {}
      },
      "source": [
        "device = device = torch.device('cuda' if torch.cuda.is_available() else 'cpu')"
      ],
      "execution_count": 0,
      "outputs": []
    },
    {
      "cell_type": "code",
      "metadata": {
        "id": "2pfMYs1vaca0",
        "colab_type": "code",
        "outputId": "043554ce-f5ba-46c1-b8e2-854b439364b2",
        "colab": {
          "base_uri": "https://localhost:8080/",
          "height": 493
        }
      },
      "source": [
        "hidden = lambda c_in, c_out: nn.Sequential(\n",
        "    nn.Conv3d(c_in, c_out, (3,3,3)),\n",
        "    nn.BatchNorm3d(c_out),\n",
        "    nn.ReLU(),\n",
        "    nn.MaxPool3d(2)\n",
        ")\n",
        "\n",
        "class MriNet(nn.Module):\n",
        "    def __init__(self, c):\n",
        "        super(MriNet, self).__init__()\n",
        "        self.hidden1 = hidden(1, c)\n",
        "        self.hidden2 = hidden(c, 2*c)\n",
        "        self.hidden3 = hidden(2*c, 4*c)\n",
        "        self.linear = nn.Linear(128*5*7*5, 2)\n",
        "        self.flatten = nn.Flatten()\n",
        "        self.drop_layer = nn.Dropout(p=.5) #dropout for preventing overfitting\n",
        "\n",
        "    def forward(self, x):\n",
        "        x = self.hidden1(x)\n",
        "        x = self.hidden2(x)\n",
        "        x = self.hidden3(x)\n",
        "        x = self.flatten(x)\n",
        "        x = self.linear(x)\n",
        "        x = F.log_softmax(x, dim=1)\n",
        "        x = self.drop_layer(x) \n",
        "        return x\n",
        "\n",
        "c = 32\n",
        "model = MriNet(c).to(device)\n",
        "summary(model, (1, 58, 70, 58))"
      ],
      "execution_count": 10,
      "outputs": [
        {
          "output_type": "stream",
          "text": [
            "----------------------------------------------------------------\n",
            "        Layer (type)               Output Shape         Param #\n",
            "================================================================\n",
            "            Conv3d-1       [-1, 32, 56, 68, 56]             896\n",
            "       BatchNorm3d-2       [-1, 32, 56, 68, 56]              64\n",
            "              ReLU-3       [-1, 32, 56, 68, 56]               0\n",
            "         MaxPool3d-4       [-1, 32, 28, 34, 28]               0\n",
            "            Conv3d-5       [-1, 64, 26, 32, 26]          55,360\n",
            "       BatchNorm3d-6       [-1, 64, 26, 32, 26]             128\n",
            "              ReLU-7       [-1, 64, 26, 32, 26]               0\n",
            "         MaxPool3d-8       [-1, 64, 13, 16, 13]               0\n",
            "            Conv3d-9      [-1, 128, 11, 14, 11]         221,312\n",
            "      BatchNorm3d-10      [-1, 128, 11, 14, 11]             256\n",
            "             ReLU-11      [-1, 128, 11, 14, 11]               0\n",
            "        MaxPool3d-12         [-1, 128, 5, 7, 5]               0\n",
            "          Flatten-13                [-1, 22400]               0\n",
            "           Linear-14                    [-1, 2]          44,802\n",
            "          Dropout-15                    [-1, 2]               0\n",
            "================================================================\n",
            "Total params: 322,818\n",
            "Trainable params: 322,818\n",
            "Non-trainable params: 0\n",
            "----------------------------------------------------------------\n",
            "Input size (MB): 0.90\n",
            "Forward/backward pass size (MB): 201.01\n",
            "Params size (MB): 1.23\n",
            "Estimated Total Size (MB): 203.14\n",
            "----------------------------------------------------------------\n"
          ],
          "name": "stdout"
        }
      ]
    },
    {
      "cell_type": "code",
      "metadata": {
        "id": "Ry5Deo3uYufS",
        "colab_type": "code",
        "colab": {}
      },
      "source": [
        "CHECKPOINTS_DIR =  './drive/My Drive/mri_data/checkpoints/'\n",
        "\n",
        "criterion = nn.NLLLoss().to(device)\n",
        "optimizer = torch.optim.Adam(model.parameters(), lr=3e-4)\n",
        "scheduler = torch.optim.lr_scheduler.StepLR(optimizer, step_size=10, gamma=0.01)"
      ],
      "execution_count": 0,
      "outputs": []
    },
    {
      "cell_type": "code",
      "metadata": {
        "id": "M3FRygC5-juL",
        "colab_type": "code",
        "colab": {}
      },
      "source": [
        ""
      ],
      "execution_count": 0,
      "outputs": []
    },
    {
      "cell_type": "code",
      "metadata": {
        "id": "InIC1EMOZRHs",
        "colab_type": "code",
        "colab": {}
      },
      "source": [
        "def get_accuracy(net, data_loader):\n",
        "    net.eval()\n",
        "    correct = 0\n",
        "    for data, target in data_loader:\n",
        "        data = data.to(device)\n",
        "        target = target.to(device)\n",
        "\n",
        "        out = net(data)\n",
        "        pred = out.data.max(1)[1] # get the index of the max log-probability\n",
        "        correct += pred.eq(target.data).cpu().sum()\n",
        "        del data, target\n",
        "    accuracy = 100. * correct / len(data_loader.dataset)\n",
        "    return accuracy.item()\n",
        "\n",
        "def train(epochs, net, criterion, optimizer, train_loader, val_loader, scheduler=None, verbose=True, save=False):\n",
        "    best_val_loss = 100_000\n",
        "    best_model = None\n",
        "    train_loss_list = []\n",
        "    val_loss_list = []\n",
        "    train_acc_list = []\n",
        "    val_acc_list = []\n",
        "\n",
        "    net.to(device)\n",
        "    for epoch in range(1, epochs+1):\n",
        "        net.train()\n",
        "        train_loss = 0\n",
        "        for X, y in train_loader:\n",
        "            # Perform one step of minibatch stochastic gradient descent\n",
        "            X, y = X.to(device), y.to(device)\n",
        "            optimizer.zero_grad()\n",
        "            out = net(X)\n",
        "            loss = criterion(out, y)\n",
        "            loss.backward()\n",
        "            train_loss += loss.item()\n",
        "            optimizer.step()\n",
        "            del X, y #freeing gpu space\n",
        "            \n",
        "        \n",
        "        # define NN evaluation, i.e. turn off dropouts, batchnorms, etc.\n",
        "        net.eval()\n",
        "        val_loss = 0\n",
        "        for X, y in val_loader:\n",
        "            # Compute the validation loss\n",
        "            X, y = X.to(device), y.to(device)\n",
        "            out = net(X)\n",
        "            val_loss += criterion(out, y).item()\n",
        "            del X, y #freeing gpu space\n",
        "         \n",
        "        if scheduler is not None:\n",
        "            scheduler.step(train_loss)\n",
        "        \n",
        "        \n",
        "        train_loss_list.append(train_loss/len(train_loader))\n",
        "        val_loss_list.append(val_loss/len(val_loader))\n",
        "        train_acc_list.append(get_accuracy(net, train_loader))\n",
        "        val_acc_list.append(get_accuracy(net, val_loader))\n",
        "\n",
        "        if save and val_loss_list[-1] < best_val_loss:\n",
        "            torch.save(net.state_dict(), CHECKPOINTS_DIR+'best_model')\n",
        "        freq = 1\n",
        "        if verbose and epoch%freq==0:\n",
        "            print('Epoch {:02d}/{} || Loss:  Train {:.4f} | Validation {:.4f}'.format(epoch, epochs, train_loss/len(train_loader), val_loss/len(val_loader)))\n",
        "        \n",
        "    return train_loss_list, val_loss_list, train_acc_list, val_acc_list\n",
        "            \n",
        "            "
      ],
      "execution_count": 0,
      "outputs": []
    },
    {
      "cell_type": "code",
      "metadata": {
        "id": "ETQqxi4CeFgm",
        "colab_type": "code",
        "outputId": "0eb2f348-b3b0-40b2-b7ba-5a01ae76ed03",
        "colab": {
          "base_uri": "https://localhost:8080/",
          "height": 357
        }
      },
      "source": [
        "torch.manual_seed(2)\n",
        "EPOCHS = 20\n",
        "\n",
        "train_loss_list, val_loss_list, train_acc_list, val_acc_list = train(EPOCHS, model, criterion, optimizer, train_loader, val_loader, scheduler=scheduler, save=True) "
      ],
      "execution_count": 13,
      "outputs": [
        {
          "output_type": "stream",
          "text": [
            "Epoch 01/20 || Loss:  Train 3.2159 | Validation 3.9734\n",
            "Epoch 02/20 || Loss:  Train 1.0603 | Validation 1.8240\n",
            "Epoch 03/20 || Loss:  Train 3.5227 | Validation 0.6701\n",
            "Epoch 04/20 || Loss:  Train 1.3112 | Validation 1.0609\n",
            "Epoch 05/20 || Loss:  Train 0.8331 | Validation 1.0445\n",
            "Epoch 06/20 || Loss:  Train 2.3475 | Validation 0.7507\n",
            "Epoch 07/20 || Loss:  Train 0.5865 | Validation 0.7022\n",
            "Epoch 08/20 || Loss:  Train 0.5053 | Validation 0.4984\n",
            "Epoch 09/20 || Loss:  Train 0.3478 | Validation 0.4106\n",
            "Epoch 10/20 || Loss:  Train 0.2617 | Validation 0.3563\n",
            "Epoch 11/20 || Loss:  Train 0.2359 | Validation 0.3625\n",
            "Epoch 12/20 || Loss:  Train 0.3111 | Validation 0.3221\n",
            "Epoch 13/20 || Loss:  Train 0.2529 | Validation 0.3386\n",
            "Epoch 14/20 || Loss:  Train 0.2640 | Validation 0.3292\n",
            "Epoch 15/20 || Loss:  Train 0.2276 | Validation 0.3157\n",
            "Epoch 16/20 || Loss:  Train 0.1915 | Validation 0.3420\n",
            "Epoch 17/20 || Loss:  Train 0.2349 | Validation 0.3354\n",
            "Epoch 18/20 || Loss:  Train 0.2340 | Validation 0.2933\n",
            "Epoch 19/20 || Loss:  Train 0.2433 | Validation 0.2890\n",
            "Epoch 20/20 || Loss:  Train 0.1867 | Validation 0.3045\n"
          ],
          "name": "stdout"
        }
      ]
    },
    {
      "cell_type": "code",
      "metadata": {
        "id": "SIGgsqD71by4",
        "colab_type": "code",
        "colab": {}
      },
      "source": [
        "PATH_TO_SAVE_MODEL = './drive/My Drive/mri_data/final_mri_model'\n",
        "torch.save(model.state_dict(), PATH_TO_SAVE_MODEL)"
      ],
      "execution_count": 0,
      "outputs": []
    },
    {
      "cell_type": "code",
      "metadata": {
        "id": "mdfHmpCT10gq",
        "colab_type": "code",
        "colab": {}
      },
      "source": [
        ""
      ],
      "execution_count": 0,
      "outputs": []
    },
    {
      "cell_type": "code",
      "metadata": {
        "id": "AgbxRc1RsPEl",
        "colab_type": "code",
        "colab": {
          "base_uri": "https://localhost:8080/",
          "height": 455
        },
        "outputId": "e1ef8161-85d1-4b58-a43b-dadfa6bd7146"
      },
      "source": [
        "plt.figure(figsize=(20,8))\n",
        "\n",
        "plt.subplot(1, 2, 1)\n",
        "plt.title('Loss history', fontsize=18)\n",
        "plt.plot(train_loss_list, label='Train')\n",
        "plt.plot(val_loss_list, label='Validation')\n",
        "plt.xlabel('# of epoch', fontsize=16)\n",
        "plt.ylabel('Loss', fontsize=16)\n",
        "plt.legend(fontsize=16)\n",
        "plt.grid()\n",
        "\n",
        "plt.subplot(1, 2, 2)\n",
        "plt.title('Accuracy history', fontsize=18)\n",
        "plt.plot(train_acc_list, label='Train')\n",
        "plt.plot(val_acc_list, label='Validation')\n",
        "plt.xlabel('# of epoch', fontsize=16)\n",
        "plt.ylabel('Accuracy', fontsize=16)\n",
        "plt.legend(fontsize=16)\n",
        "plt.grid()\n",
        "\n",
        "\n",
        "\n",
        "\n",
        "\n"
      ],
      "execution_count": 15,
      "outputs": [
        {
          "output_type": "display_data",
          "data": {
            "image/png": "[encoded data removed]",
            "text/plain": [
              "<Figure size 1440x576 with 2 Axes>"
            ]
          },
          "metadata": {
            "tags": []
          }
        }
      ]
    },
    {
      "cell_type": "code",
      "metadata": {
        "id": "kwwuFwsH2Ifa",
        "colab_type": "code",
        "colab": {}
      },
      "source": [
        ""
      ],
      "execution_count": 0,
      "outputs": []
    }
  ]
}