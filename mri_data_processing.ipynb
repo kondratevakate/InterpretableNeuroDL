{
  "nbformat": 4,
  "nbformat_minor": 0,
  "metadata": {
    "colab": {
      "name": "mri_data_processing.ipynb",
      "provenance": [],
      "collapsed_sections": [],
      "toc_visible": true
    },
    "kernelspec": {
      "name": "python3",
      "display_name": "Python 3"
    },
    "accelerator": "GPU"
  },
  "cells": [
    {
      "cell_type": "code",
      "metadata": {
        "id": "TbVC-fIYcwoA",
        "colab_type": "code",
        "colab": {}
      },
      "source": [
        "#!pip install torchio\n",
        "#!pip install nilearn\n",
        "\n",
        "import numpy as np\n",
        "import matplotlib.pyplot as plt\n",
        "import pandas as pd\n",
        "import torch\n",
        "import torch.nn as nn\n",
        "import torch.utils.data as torch_data\n",
        "import torch.nn.functional as F\n",
        "#import torchio\n",
        "from torchsummary import summary\n",
        "import os\n",
        "#import nilearn\n",
        "from sklearn.model_selection import train_test_split\n",
        "from torch.autograd import Variable\n",
        "from skimage.transform import resize\n",
        "\n",
        "\n",
        "%matplotlib inline"
      ],
      "execution_count": 0,
      "outputs": []
    },
    {
      "cell_type": "code",
      "metadata": {
        "id": "gOq_O1sRc4Y5",
        "colab_type": "code",
        "colab": {}
      },
      "source": [
        "PATH_TO_MRI = './drive/My Drive/mri_data/Project/data/'\n",
        "SCALE = [58, 70, 58]\n"
      ],
      "execution_count": 0,
      "outputs": []
    },
    {
      "cell_type": "code",
      "metadata": {
        "id": "lBWPkt7SuenE",
        "colab_type": "code",
        "colab": {}
      },
      "source": [
        "#getting labels\n",
        "\n",
        "targets = pd.read_csv('./drive/My Drive/mri_data/Project/Target.csv')\n",
        "y = pd.get_dummies(targets, columns=['Gender'])['Gender_M'].values\n"
      ],
      "execution_count": 0,
      "outputs": []
    },
    {
      "cell_type": "code",
      "metadata": {
        "id": "_-cyVCFa8IB-",
        "colab_type": "code",
        "colab": {}
      },
      "source": [
        "np.save('./drive/My Drive/mri_data/labels', y)"
      ],
      "execution_count": 0,
      "outputs": []
    },
    {
      "cell_type": "code",
      "metadata": {
        "id": "z1bUomKFv9kH",
        "colab_type": "code",
        "colab": {}
      },
      "source": [
        "#getting mri_data\n",
        "imgs = []\n",
        "\n",
        "for i, img_name in enumerate(sorted(os.listdir(PATH_TO_MRI))):\n",
        "    img = nilearn.image.load_img(PATH_TO_MRI+img_name)\n",
        "    imgs.append(resize(nilearn.image.get_data(img), SCALE))\n",
        "    if i%25 == 0:\n",
        "        print('{} iteration is finished.'.format(i))\n",
        "    \n",
        "X = np.stack(imgs)\n",
        "np.save('./drive/My Drive/mri_data/tensors', X)\n",
        "del imgs #deleting for freeing space on disc\n",
        "X.shape\n"
      ],
      "execution_count": 0,
      "outputs": []
    },
    {
      "cell_type": "code",
      "metadata": {
        "id": "AgbxRc1RsPEl",
        "colab_type": "code",
        "colab": {}
      },
      "source": [
        ""
      ],
      "execution_count": 0,
      "outputs": []
    }
  ]
}