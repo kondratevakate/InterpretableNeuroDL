{
 "cells": [
  {
   "cell_type": "code",
   "execution_count": 1,
   "metadata": {},
   "outputs": [],
   "source": [
    "#!pip install nilearn\n",
    "\n",
    "import numpy as np\n",
    "import matplotlib.pyplot as plt\n",
    "import pandas as pd\n",
    "import torch\n",
    "import torch.nn as nn\n",
    "import torch.utils.data as torch_data\n",
    "import torch.nn.functional as F\n",
    "import os\n",
    "import nilearn\n",
    "from sklearn.model_selection import train_test_split\n",
    "from torch.autograd import Variable\n",
    "from skimage.transform import resize\n",
    "\n",
    "\n",
    "%matplotlib inline"
   ]
  },
  {
   "cell_type": "code",
   "execution_count": null,
   "metadata": {},
   "outputs": [],
   "source": [
    "PATH_TO_MRI = 'E:/Target_and_data/data/'\n",
    "PATH_TO_MASK = 'E:/brain_mask'\n",
    "SCALE = [58, 70, 58]\n",
    "behavioral_data = pd.read_csv('E:/Target_and_data/unrestricted_maxss_3_23_2020_5_34_27.csv')"
   ]
  },
  {
   "cell_type": "code",
   "execution_count": 3,
   "metadata": {},
   "outputs": [],
   "source": [
    "y_id = []\n",
    "for file_name in os.listdir(PATH_TO_MRI):\n",
    "    y_id.append(int(file_name[:6]))\n",
    "available_id = pd.DataFrame()\n",
    "available_id['id'] = y_id"
   ]
  },
  {
   "cell_type": "code",
   "execution_count": 4,
   "metadata": {},
   "outputs": [],
   "source": [
    "behavioral_data.set_index('Subject',inplace=True)\n",
    "y_gender = []\n",
    "for i in available_id['id']:\n",
    "    y_gender.append(behavioral_data['Gender'][i])\n",
    "available_id['Gender'] = y_gender"
   ]
  },
  {
   "cell_type": "code",
   "execution_count": 5,
   "metadata": {
    "scrolled": true
   },
   "outputs": [],
   "source": [
    "y = pd.get_dummies(available_id, columns=['Gender'])['Gender_M'].values\n",
    "np.save('D:/Target_and_data/labels', y)\n",
    "y.shape"
   ]
  },
  {
   "cell_type": "code",
   "execution_count": 32,
   "metadata": {},
   "outputs": [
    {
     "name": "stdout",
     "output_type": "stream",
     "text": [
      "0 iteration is finished.\n",
      "25 iteration is finished.\n",
      "50 iteration is finished.\n",
      "75 iteration is finished.\n",
      "100 iteration is finished.\n",
      "125 iteration is finished.\n",
      "150 iteration is finished.\n",
      "175 iteration is finished.\n",
      "200 iteration is finished.\n",
      "225 iteration is finished.\n",
      "250 iteration is finished.\n",
      "275 iteration is finished.\n",
      "300 iteration is finished.\n",
      "325 iteration is finished.\n",
      "350 iteration is finished.\n",
      "375 iteration is finished.\n",
      "400 iteration is finished.\n",
      "425 iteration is finished.\n",
      "450 iteration is finished.\n",
      "475 iteration is finished.\n",
      "500 iteration is finished.\n",
      "525 iteration is finished.\n",
      "550 iteration is finished.\n",
      "575 iteration is finished.\n",
      "600 iteration is finished.\n",
      "625 iteration is finished.\n",
      "650 iteration is finished.\n",
      "675 iteration is finished.\n",
      "700 iteration is finished.\n",
      "725 iteration is finished.\n",
      "750 iteration is finished.\n",
      "775 iteration is finished.\n",
      "800 iteration is finished.\n",
      "825 iteration is finished.\n",
      "850 iteration is finished.\n",
      "875 iteration is finished.\n",
      "900 iteration is finished.\n",
      "925 iteration is finished.\n",
      "950 iteration is finished.\n",
      "975 iteration is finished.\n",
      "1000 iteration is finished.\n",
      "1025 iteration is finished.\n",
      "1050 iteration is finished.\n",
      "1075 iteration is finished.\n",
      "1100 iteration is finished.\n"
     ]
    },
    {
     "data": {
      "text/plain": [
       "(1113, 58, 70, 58)"
      ]
     },
     "execution_count": 32,
     "metadata": {},
     "output_type": "execute_result"
    }
   ],
   "source": [
    "imgs = []\n",
    "for i, idd in enumerate(available_id['id']):\n",
    "    dir = PATH_TO_MRI\n",
    "    file= '{}.nii'.format(idd)\n",
    "    full_path=os.path.join(dir,file)\n",
    "    img = nilearn.image.load_img(full_path)\n",
    "    imgs.append(resize(nilearn.image.get_data(img), SCALE))\n",
    "    if i%25 == 0:\n",
    "        print('{} iteration is finished.'.format(i))\n",
    "X = np.stack(imgs,axis=0)\n",
    "np.save('E:/Target_and_data/tensors', X)\n",
    "del imgs #deleting for freeing space on disc\n",
    "X.shape"
   ]
  },
  {
   "cell_type": "code",
   "execution_count": 5,
   "metadata": {},
   "outputs": [
    {
     "name": "stdout",
     "output_type": "stream",
     "text": [
      "0 iteration is finished.\n",
      "25 iteration is finished.\n",
      "50 iteration is finished.\n",
      "75 iteration is finished.\n",
      "100 iteration is finished.\n",
      "125 iteration is finished.\n",
      "150 iteration is finished.\n",
      "175 iteration is finished.\n",
      "200 iteration is finished.\n",
      "225 iteration is finished.\n",
      "250 iteration is finished.\n",
      "275 iteration is finished.\n",
      "300 iteration is finished.\n",
      "325 iteration is finished.\n",
      "350 iteration is finished.\n",
      "375 iteration is finished.\n",
      "400 iteration is finished.\n",
      "425 iteration is finished.\n",
      "450 iteration is finished.\n",
      "475 iteration is finished.\n",
      "500 iteration is finished.\n",
      "525 iteration is finished.\n",
      "550 iteration is finished.\n",
      "575 iteration is finished.\n",
      "600 iteration is finished.\n",
      "625 iteration is finished.\n",
      "650 iteration is finished.\n",
      "675 iteration is finished.\n",
      "700 iteration is finished.\n",
      "725 iteration is finished.\n",
      "750 iteration is finished.\n",
      "775 iteration is finished.\n",
      "800 iteration is finished.\n",
      "825 iteration is finished.\n",
      "850 iteration is finished.\n",
      "875 iteration is finished.\n",
      "900 iteration is finished.\n",
      "925 iteration is finished.\n",
      "950 iteration is finished.\n",
      "975 iteration is finished.\n",
      "1000 iteration is finished.\n",
      "1025 iteration is finished.\n",
      "1050 iteration is finished.\n",
      "1075 iteration is finished.\n",
      "1100 iteration is finished.\n"
     ]
    },
    {
     "data": {
      "text/plain": [
       "(1113, 58, 70, 58)"
      ]
     },
     "execution_count": 5,
     "metadata": {},
     "output_type": "execute_result"
    }
   ],
   "source": [
    "masks_list = []\n",
    "for i, idd in enumerate(available_id['id']):\n",
    "    dir = PATH_TO_MASK\n",
    "    file= '{}.nii'.format(idd)\n",
    "    full_path=os.path.join(dir,file)\n",
    "    mask = nilearn.image.load_img(full_path)\n",
    "    masks_list.append(resize(nilearn.image.get_data(mask), SCALE))\n",
    "    if i%25 == 0:\n",
    "        print('{} iteration is finished.'.format(i))\n",
    "masks_brain = np.stack(masks_list,axis=0)\n",
    "np.save('E:/Target_and_data/masks_brain', masks_brain)\n",
    "del masks_list #deleting for freeing space on disc\n",
    "masks_brain.shape"
   ]
  },
  {
   "cell_type": "code",
   "execution_count": null,
   "metadata": {},
   "outputs": [],
   "source": []
  }
 ],
 "metadata": {
  "kernelspec": {
   "display_name": "Python 3",
   "language": "python",
   "name": "python3"
  },
  "language_info": {
   "codemirror_mode": {
    "name": "ipython",
    "version": 3
   },
   "file_extension": ".py",
   "mimetype": "text/x-python",
   "name": "python",
   "nbconvert_exporter": "python",
   "pygments_lexer": "ipython3",
   "version": "3.7.3"
  }
 },
 "nbformat": 4,
 "nbformat_minor": 2
}
