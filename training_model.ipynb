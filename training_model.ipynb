{
  "nbformat": 4,
  "nbformat_minor": 0,
  "metadata": {
    "colab": {
      "name": "training_model.ipynb",
      "provenance": [],
      "collapsed_sections": [],
      "toc_visible": true
    },
    "kernelspec": {
      "name": "python3",
      "display_name": "Python 3"
    },
    "accelerator": "GPU"
  },
  "cells": [
    {
      "cell_type": "code",
      "metadata": {
        "id": "TbVC-fIYcwoA",
        "colab_type": "code",
        "colab": {}
      },
      "source": [
        "import numpy as np\n",
        "import matplotlib.pyplot as plt\n",
        "import pandas as pd\n",
        "import torch\n",
        "import torch.nn as nn\n",
        "import torch.utils.data as torch_data\n",
        "import torch.nn.functional as F\n",
        "from torchsummary import summary\n",
        "import os\n",
        "from sklearn.model_selection import train_test_split, StratifiedKFold\n",
        "\n",
        "\n",
        "%matplotlib inline"
      ],
      "execution_count": 0,
      "outputs": []
    },
    {
      "cell_type": "code",
      "metadata": {
        "id": "Ng1IcCer9NSG",
        "colab_type": "code",
        "outputId": "4dc7943a-c692-419f-f377-5287d5184654",
        "colab": {
          "base_uri": "https://localhost:8080/",
          "height": 34
        }
      },
      "source": [
        "X, y = np.load('./drive/My Drive/mri_data/tensors.npy'), np.load('./drive/My Drive/mri_data/labels.npy')\n",
        "X = X[:, np.newaxis, :, :, :]\n",
        "print(X.shape, y.shape)"
      ],
      "execution_count": 0,
      "outputs": [
        {
          "output_type": "stream",
          "text": [
            "(517, 1, 58, 70, 58) (517,)\n"
          ],
          "name": "stdout"
        }
      ]
    },
    {
      "cell_type": "code",
      "metadata": {
        "id": "hjalzY4ZylGC",
        "colab_type": "code",
        "colab": {}
      },
      "source": [
        "class MriData(torch.utils.data.Dataset):\n",
        "    def __init__(self, X, y):\n",
        "        super(MriData, self).__init__()\n",
        "        self.X = torch.tensor(X, dtype=torch.float32)\n",
        "        self.y = torch.tensor(y).long()\n",
        "    \n",
        "    def __len__(self):\n",
        "        return self.X.shape[0]\n",
        "    \n",
        "    def __getitem__(self, idx):\n",
        "        return self.X[idx], self.y[idx]"
      ],
      "execution_count": 0,
      "outputs": []
    },
    {
      "cell_type": "markdown",
      "metadata": {
        "id": "wUtTLI4ZwhDi",
        "colab_type": "text"
      },
      "source": [
        "## Non-cross-validation training"
      ]
    },
    {
      "cell_type": "code",
      "metadata": {
        "id": "yUZGw-ETwKA5",
        "colab_type": "code",
        "colab": {}
      },
      "source": [
        "X_train, X_test, y_train, y_test = train_test_split(X, y, test_size=0.2, stratify=y, random_state=42) #may be that's bad idea to split using train_test_split. Instead of it - use indexes of data\n",
        "#del X, y #deleting for freeing space on disc\n",
        "\n",
        "train_dataset = MriData(X_train, y_train)\n",
        "test_dataset = MriData(X_test, y_test)\n",
        "#del X_train, X_test, y_train, y_test #deleting for freeing space on disc"
      ],
      "execution_count": 0,
      "outputs": []
    },
    {
      "cell_type": "code",
      "metadata": {
        "id": "BttsN8kG3YyG",
        "colab_type": "code",
        "colab": {}
      },
      "source": [
        "train_dataset = MriData(X_train, y_train)\n",
        "test_dataset = MriData(X_test, y_test)\n",
        "train_loader = torch.utils.data.DataLoader(train_dataset, batch_size=45, shuffle=True)  #46 - recommended empirical value for batchsize\n",
        "val_loader = torch.utils.data.DataLoader(test_dataset, batch_size=28, shuffle=False) "
      ],
      "execution_count": 0,
      "outputs": []
    },
    {
      "cell_type": "code",
      "metadata": {
        "id": "YTbF3NuselOt",
        "colab_type": "code",
        "colab": {}
      },
      "source": [
        "device = torch.device('cuda' if torch.cuda.is_available() else 'cpu')"
      ],
      "execution_count": 0,
      "outputs": []
    },
    {
      "cell_type": "code",
      "metadata": {
        "id": "2pfMYs1vaca0",
        "colab_type": "code",
        "outputId": "d290082c-ebc7-493d-ff62-46cc1dbf97d9",
        "colab": {
          "base_uri": "https://localhost:8080/",
          "height": 493
        }
      },
      "source": [
        "hidden = lambda c_in, c_out: nn.Sequential(\n",
        "    nn.Conv3d(c_in, c_out, (3,3,3)),\n",
        "    nn.BatchNorm3d(c_out),\n",
        "    nn.ReLU(),\n",
        "    nn.MaxPool3d(2)\n",
        ")\n",
        "\n",
        "class MriNet(nn.Module):\n",
        "    def __init__(self, c):\n",
        "        super(MriNet, self).__init__()\n",
        "        self.hidden1 = hidden(1, c)\n",
        "        self.hidden2 = hidden(c, 2*c)\n",
        "        self.hidden3 = hidden(2*c, 4*c)\n",
        "        self.linear = nn.Linear(128*5*7*5, 2)\n",
        "        self.flatten = nn.Flatten()\n",
        "        self.drop_layer = nn.Dropout(p=.5) #dropout for preventing overfitting\n",
        "\n",
        "    def forward(self, x):\n",
        "        x = self.hidden1(x)\n",
        "        #x = self.drop_layer(x) \n",
        "        x = self.hidden2(x)\n",
        "        #x = self.drop_layer(x) \n",
        "        x = self.hidden3(x)\n",
        "        #x = self.drop_layer(x) \n",
        "        x = self.flatten(x)\n",
        "        x = self.linear(x)\n",
        "        x = F.log_softmax(x, dim=1)\n",
        "        x = self.drop_layer(x) \n",
        "        return x\n",
        "\n",
        "torch.manual_seed(1)\n",
        "np.random.seed(1)\n",
        "\n",
        "c = 32\n",
        "model = MriNet(c).to(device)\n",
        "summary(model, (1, 58, 70, 58))"
      ],
      "execution_count": 0,
      "outputs": [
        {
          "output_type": "stream",
          "text": [
            "----------------------------------------------------------------\n",
            "        Layer (type)               Output Shape         Param #\n",
            "================================================================\n",
            "            Conv3d-1       [-1, 32, 56, 68, 56]             896\n",
            "       BatchNorm3d-2       [-1, 32, 56, 68, 56]              64\n",
            "              ReLU-3       [-1, 32, 56, 68, 56]               0\n",
            "         MaxPool3d-4       [-1, 32, 28, 34, 28]               0\n",
            "            Conv3d-5       [-1, 64, 26, 32, 26]          55,360\n",
            "       BatchNorm3d-6       [-1, 64, 26, 32, 26]             128\n",
            "              ReLU-7       [-1, 64, 26, 32, 26]               0\n",
            "         MaxPool3d-8       [-1, 64, 13, 16, 13]               0\n",
            "            Conv3d-9      [-1, 128, 11, 14, 11]         221,312\n",
            "      BatchNorm3d-10      [-1, 128, 11, 14, 11]             256\n",
            "             ReLU-11      [-1, 128, 11, 14, 11]               0\n",
            "        MaxPool3d-12         [-1, 128, 5, 7, 5]               0\n",
            "          Flatten-13                [-1, 22400]               0\n",
            "           Linear-14                    [-1, 2]          44,802\n",
            "          Dropout-15                    [-1, 2]               0\n",
            "================================================================\n",
            "Total params: 322,818\n",
            "Trainable params: 322,818\n",
            "Non-trainable params: 0\n",
            "----------------------------------------------------------------\n",
            "Input size (MB): 0.90\n",
            "Forward/backward pass size (MB): 201.01\n",
            "Params size (MB): 1.23\n",
            "Estimated Total Size (MB): 203.14\n",
            "----------------------------------------------------------------\n"
          ],
          "name": "stdout"
        }
      ]
    },
    {
      "cell_type": "code",
      "metadata": {
        "id": "Ry5Deo3uYufS",
        "colab_type": "code",
        "colab": {}
      },
      "source": [
        "CHECKPOINTS_DIR =  './drive/My Drive/mri_data/checkpoints/'\n",
        "\n",
        "criterion = nn.NLLLoss().to(device)\n",
        "optimizer = torch.optim.Adam(model.parameters(), lr=3e-4)\n",
        "scheduler = torch.optim.lr_scheduler.MultiStepLR(optimizer, milestones=[5, 15], gamma=0.1)"
      ],
      "execution_count": 0,
      "outputs": []
    },
    {
      "cell_type": "code",
      "metadata": {
        "id": "M3FRygC5-juL",
        "colab_type": "code",
        "colab": {}
      },
      "source": [
        ""
      ],
      "execution_count": 0,
      "outputs": []
    },
    {
      "cell_type": "code",
      "metadata": {
        "id": "InIC1EMOZRHs",
        "colab_type": "code",
        "colab": {}
      },
      "source": [
        "def get_accuracy(net, data_loader):\n",
        "    net.eval()\n",
        "    correct = 0\n",
        "    for data, target in data_loader:\n",
        "        data = data.to(device)\n",
        "        target = target.to(device)\n",
        "\n",
        "        out = net(data)\n",
        "        pred = out.data.max(1)[1] # get the index of the max log-probability\n",
        "        correct += pred.eq(target.data).cpu().sum()\n",
        "        del data, target\n",
        "    accuracy = 100. * correct / len(data_loader.dataset)\n",
        "    return accuracy.item()\n",
        "\n",
        "def get_loss(net, data_loader):\n",
        "    net.eval()\n",
        "    loss = 0 \n",
        "    for data, target in data_loader:\n",
        "        data = data.to(device)\n",
        "        target = target.to(device)\n",
        "\n",
        "        out = net(data)\n",
        "        loss += criterion(out, target).item()*len(data)\n",
        "\n",
        "        del data, target\n",
        "\n",
        "    return loss / len(data_loader.dataset)\n",
        "\n",
        "\n",
        "def train(epochs, net, criterion, optimizer, train_loader, val_loader, scheduler=None, verbose=True, save=False):\n",
        "    best_val_loss = 100_000\n",
        "    best_model = None\n",
        "    train_loss_list = []\n",
        "    val_loss_list = []\n",
        "    train_acc_list = []\n",
        "    val_acc_list = []\n",
        "\n",
        "    train_loss_list.append(get_loss(net, train_loader))\n",
        "    val_loss_list.append(get_loss(net, val_loader))\n",
        "    train_acc_list.append(get_accuracy(net, train_loader))\n",
        "    val_acc_list.append(get_accuracy(net, val_loader))\n",
        "    if verbose:\n",
        "        print('Epoch {:02d}/{} || Loss:  Train {:.4f} | Validation {:.4f}'.format(0, epochs, train_loss_list[-1], val_loss_list[-1]))\n",
        "\n",
        "    net.to(device)\n",
        "    for epoch in range(1, epochs+1):\n",
        "        net.train()\n",
        "        for X, y in train_loader:\n",
        "            # Perform one step of minibatch stochastic gradient descent\n",
        "            X, y = X.to(device), y.to(device)\n",
        "            optimizer.zero_grad()\n",
        "            out = net(X)\n",
        "            loss = criterion(out, y)\n",
        "            loss.backward()\n",
        "            optimizer.step()\n",
        "            del X, y #freeing gpu space\n",
        "            \n",
        "        \n",
        "        # define NN evaluation, i.e. turn off dropouts, batchnorms, etc.\n",
        "        net.eval()\n",
        "        for X, y in val_loader:\n",
        "            # Compute the validation loss\n",
        "            X, y = X.to(device), y.to(device)\n",
        "            out = net(X)\n",
        "            del X, y #freeing gpu space\n",
        "         \n",
        "        if scheduler is not None:\n",
        "            scheduler.step()\n",
        "        \n",
        "        \n",
        "        train_loss_list.append(get_loss(net, train_loader))\n",
        "        val_loss_list.append(get_loss(net, val_loader))\n",
        "        train_acc_list.append(get_accuracy(net, train_loader))\n",
        "        val_acc_list.append(get_accuracy(net, val_loader))\n",
        "\n",
        "        if save and val_loss_list[-1] < best_val_loss:\n",
        "            torch.save(net.state_dict(), CHECKPOINTS_DIR+'best_model')\n",
        "        freq = 1\n",
        "        if verbose and epoch%freq==0:\n",
        "            print('Epoch {:02d}/{} || Loss:  Train {:.4f} | Validation {:.4f}'.format(epoch, epochs, train_loss_list[-1], val_loss_list[-1]))\n",
        "        \n",
        "    return train_loss_list, val_loss_list, train_acc_list, val_acc_list\n",
        "            \n",
        "            "
      ],
      "execution_count": 0,
      "outputs": []
    },
    {
      "cell_type": "code",
      "metadata": {
        "id": "ETQqxi4CeFgm",
        "colab_type": "code",
        "outputId": "db5f2f19-4a77-486f-bb30-fa95440f8eef",
        "colab": {
          "base_uri": "https://localhost:8080/",
          "height": 374
        }
      },
      "source": [
        "torch.manual_seed(1)\n",
        "np.random.seed(1)\n",
        "EPOCHS = 20\n",
        "\n",
        "train_loss_list, val_loss_list, train_acc_list, val_acc_list = train(EPOCHS, model, criterion, optimizer, train_loader, val_loader, scheduler=scheduler, save=True) "
      ],
      "execution_count": 0,
      "outputs": [
        {
          "output_type": "stream",
          "text": [
            "Epoch 00/20 || Loss:  Train 40.2744 | Validation 40.5630\n",
            "Epoch 01/20 || Loss:  Train 4.9472 | Validation 5.0000\n",
            "Epoch 02/20 || Loss:  Train 2.7246 | Validation 2.8182\n",
            "Epoch 03/20 || Loss:  Train 0.4641 | Validation 0.6286\n",
            "Epoch 04/20 || Loss:  Train 0.3155 | Validation 0.3772\n",
            "Epoch 05/20 || Loss:  Train 0.3763 | Validation 0.4134\n",
            "Epoch 06/20 || Loss:  Train 0.2480 | Validation 0.3200\n",
            "Epoch 07/20 || Loss:  Train 0.2637 | Validation 0.3466\n",
            "Epoch 08/20 || Loss:  Train 0.2461 | Validation 0.3179\n",
            "Epoch 09/20 || Loss:  Train 0.2675 | Validation 0.3170\n",
            "Epoch 10/20 || Loss:  Train 0.2444 | Validation 0.3181\n",
            "Epoch 11/20 || Loss:  Train 0.2465 | Validation 0.3237\n",
            "Epoch 12/20 || Loss:  Train 0.2434 | Validation 0.3056\n",
            "Epoch 13/20 || Loss:  Train 0.2369 | Validation 0.3052\n",
            "Epoch 14/20 || Loss:  Train 0.2370 | Validation 0.3124\n",
            "Epoch 15/20 || Loss:  Train 0.2418 | Validation 0.3051\n",
            "Epoch 16/20 || Loss:  Train 0.2407 | Validation 0.3045\n",
            "Epoch 17/20 || Loss:  Train 0.2375 | Validation 0.3036\n",
            "Epoch 18/20 || Loss:  Train 0.2367 | Validation 0.3028\n",
            "Epoch 19/20 || Loss:  Train 0.2348 | Validation 0.3026\n",
            "Epoch 20/20 || Loss:  Train 0.2344 | Validation 0.3028\n"
          ],
          "name": "stdout"
        }
      ]
    },
    {
      "cell_type": "code",
      "metadata": {
        "id": "AgbxRc1RsPEl",
        "colab_type": "code",
        "outputId": "4bbf54d7-7241-4755-ff27-8356df2be7b5",
        "colab": {
          "base_uri": "https://localhost:8080/",
          "height": 458
        }
      },
      "source": [
        "plt.figure(figsize=(20,8))\n",
        "\n",
        "plt.subplot(1, 2, 1)\n",
        "plt.title('Loss history', fontsize=18)\n",
        "plt.plot(train_loss_list[1:], label='Train')\n",
        "plt.plot(val_loss_list[1:], label='Validation')\n",
        "plt.xlabel('# of epoch', fontsize=16)\n",
        "plt.ylabel('Loss', fontsize=16)\n",
        "plt.legend(fontsize=16)\n",
        "plt.grid()\n",
        "\n",
        "plt.subplot(1, 2, 2)\n",
        "plt.title('Accuracy history', fontsize=18)\n",
        "plt.plot(train_acc_list, label='Train')\n",
        "plt.plot(val_acc_list, label='Validation')\n",
        "plt.xlabel('# of epoch', fontsize=16)\n",
        "plt.ylabel('Accuracy', fontsize=16)\n",
        "plt.legend(fontsize=16)\n",
        "plt.grid()\n",
        "\n",
        "\n",
        "\n",
        "\n",
        "\n"
      ],
      "execution_count": 0,
      "outputs": [
        {
          "output_type": "display_data",
          "data": {
            "image/png": "[encoded data removed]",
            "text/plain": [
              "<Figure size 1440x576 with 2 Axes>"
            ]
          },
          "metadata": {
            "tags": []
          }
        }
      ]
    },
    {
      "cell_type": "markdown",
      "metadata": {
        "id": "OT1c6OQmwvRV",
        "colab_type": "text"
      },
      "source": [
        "## K-Fold training"
      ]
    },
    {
      "cell_type": "code",
      "metadata": {
        "id": "kwwuFwsH2Ifa",
        "colab_type": "code",
        "outputId": "306d4788-0d0f-42bc-8d3b-96951c2b315a",
        "colab": {
          "base_uri": "https://localhost:8080/",
          "height": 187
        }
      },
      "source": [
        "skf = StratifiedKFold(n_splits=10, shuffle=True, random_state=42)\n",
        "cross_vall_acc_list = []\n",
        "j = 0\n",
        "\n",
        "for train_index, test_index in skf.split(X, y):\n",
        "    print('Doing {} split'.format(j))\n",
        "    j += 1\n",
        "\n",
        "    X_train, X_test = X[train_index], X[test_index]\n",
        "    y_train, y_test = y[train_index], y[test_index]\n",
        "    train_dataset = MriData(X_train, y_train)\n",
        "    test_dataset = MriData(X_test, y_test)\n",
        "    train_loader = torch.utils.data.DataLoader(train_dataset, batch_size=45, shuffle=True)  #45 - recommended empirical value for batchsize\n",
        "    val_loader = torch.utils.data.DataLoader(test_dataset, batch_size=28, shuffle=False) \n",
        "    \n",
        "    torch.manual_seed(1)\n",
        "    np.random.seed(1)\n",
        "\n",
        "    c = 32\n",
        "    model = MriNet(c).to(device)\n",
        "    criterion = nn.NLLLoss().to(device)\n",
        "    optimizer = torch.optim.Adam(model.parameters(), lr=3e-4)\n",
        "    scheduler = torch.optim.lr_scheduler.MultiStepLR(optimizer, milestones=[5, 15], gamma=0.1)\n",
        "\n",
        "    train(EPOCHS, model, criterion, optimizer, train_loader, val_loader, scheduler=scheduler, save=False, verbose=False) \n",
        "    cross_vall_acc_list.append(get_accuracy(model, val_loader))\n"
      ],
      "execution_count": 0,
      "outputs": [
        {
          "output_type": "stream",
          "text": [
            "Doing 0 split\n",
            "Doing 1 split\n",
            "Doing 2 split\n",
            "Doing 3 split\n",
            "Doing 4 split\n",
            "Doing 5 split\n",
            "Doing 6 split\n",
            "Doing 7 split\n",
            "Doing 8 split\n",
            "Doing 9 split\n"
          ],
          "name": "stdout"
        }
      ]
    },
    {
      "cell_type": "code",
      "metadata": {
        "id": "RKbs0w6HwynW",
        "colab_type": "code",
        "outputId": "a22f31ca-8080-4063-ff88-8f5f0c2a031d",
        "colab": {
          "base_uri": "https://localhost:8080/",
          "height": 34
        }
      },
      "source": [
        "print('Average cross-validation accuracy (10-folds):', sum(cross_vall_acc_list)/len(cross_vall_acc_list))"
      ],
      "execution_count": 0,
      "outputs": [
        {
          "output_type": "stream",
          "text": [
            "Average cross-validation accuracy (10-folds): 88.19758758544921\n"
          ],
          "name": "stdout"
        }
      ]
    },
    {
      "cell_type": "code",
      "metadata": {
        "id": "0iieJC3X47e_",
        "colab_type": "code",
        "colab": {}
      },
      "source": [
        ""
      ],
      "execution_count": 0,
      "outputs": []
    }
  ]
}