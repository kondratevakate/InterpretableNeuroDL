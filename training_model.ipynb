{
  "nbformat": 4,
  "nbformat_minor": 0,
  "metadata": {
    "colab": {
      "name": "training_model.ipynb",
      "provenance": [],
      "collapsed_sections": [],
      "toc_visible": true,
      "machine_shape": "hm"
    },
    "kernelspec": {
      "name": "python3",
      "display_name": "Python 3"
    },
    "accelerator": "GPU"
  },
  "cells": [
    {
      "cell_type": "code",
      "metadata": {
        "id": "TbVC-fIYcwoA",
        "colab_type": "code",
        "colab": {}
      },
      "source": [
        "import numpy as np\n",
        "import matplotlib.pyplot as plt\n",
        "import pandas as pd\n",
        "import torch\n",
        "import torch.nn as nn\n",
        "import torch.utils.data as torch_data\n",
        "import torch.nn.functional as F\n",
        "from torchsummary import summary\n",
        "import os\n",
        "from sklearn.model_selection import train_test_split, StratifiedKFold\n",
        "\n",
        "\n",
        "%matplotlib inline"
      ],
      "execution_count": 0,
      "outputs": []
    },
    {
      "cell_type": "code",
      "metadata": {
        "id": "Ng1IcCer9NSG",
        "colab_type": "code",
        "outputId": "80391a88-09df-46b0-93c0-736ca9dbfd3b",
        "colab": {
          "base_uri": "https://localhost:8080/",
          "height": 34
        }
      },
      "source": [
        "X, y = np.load('./drive/My Drive/mri_data/tensors.npy'), np.load('./drive/My Drive/mri_data/labels.npy')\n",
        "X = X[:, np.newaxis, :, :, :]\n",
        "print(X.shape, y.shape)"
      ],
      "execution_count": 2,
      "outputs": [
        {
          "output_type": "stream",
          "text": [
            "(1113, 1, 58, 70, 58) (1113,)\n"
          ],
          "name": "stdout"
        }
      ]
    },
    {
      "cell_type": "code",
      "metadata": {
        "id": "hjalzY4ZylGC",
        "colab_type": "code",
        "colab": {}
      },
      "source": [
        "class MriData(torch.utils.data.Dataset):\n",
        "    def __init__(self, X, y):\n",
        "        super(MriData, self).__init__()\n",
        "        self.X = torch.tensor(X, dtype=torch.float32)\n",
        "        self.y = torch.tensor(y).long()\n",
        "    \n",
        "    def __len__(self):\n",
        "        return self.X.shape[0]\n",
        "    \n",
        "    def __getitem__(self, idx):\n",
        "        return self.X[idx], self.y[idx]"
      ],
      "execution_count": 0,
      "outputs": []
    },
    {
      "cell_type": "markdown",
      "metadata": {
        "id": "tHCd642CUW8R",
        "colab_type": "text"
      },
      "source": [
        "## SVM (cross validation)"
      ]
    },
    {
      "cell_type": "code",
      "metadata": {
        "id": "Nv5nVtj-UWO-",
        "colab_type": "code",
        "colab": {}
      },
      "source": [
        "from sklearn.svm import SVC\n",
        "from sklearn.metrics import accuracy_score\n",
        "from sklearn.model_selection import cross_val_score"
      ],
      "execution_count": 0,
      "outputs": []
    },
    {
      "cell_type": "code",
      "metadata": {
        "id": "_nSJHGf4UZZ2",
        "colab_type": "code",
        "colab": {}
      },
      "source": [
        "X_f = X.reshape(X.shape[0], -1).copy()\n",
        "svc = SVC()\n",
        "cv_results = cross_val_score(svc, X_f, y, cv=10)"
      ],
      "execution_count": 0,
      "outputs": []
    },
    {
      "cell_type": "code",
      "metadata": {
        "id": "xRO7v5XfUZYI",
        "colab_type": "code",
        "colab": {
          "base_uri": "https://localhost:8080/",
          "height": 34
        },
        "outputId": "6f62e3c0-a28d-4920-bfc5-9d4e58cbc54c"
      },
      "source": [
        "print('Average cross-validation accuracy for SVM (10-folds):', sum(cv_results)/len(cv_results))"
      ],
      "execution_count": 28,
      "outputs": [
        {
          "output_type": "stream",
          "text": [
            "Average cross-validation accuracy for SVM (10-folds): 0.9002654440154441\n"
          ],
          "name": "stdout"
        }
      ]
    },
    {
      "cell_type": "markdown",
      "metadata": {
        "id": "wUtTLI4ZwhDi",
        "colab_type": "text"
      },
      "source": [
        "## Non-cross-validation training"
      ]
    },
    {
      "cell_type": "code",
      "metadata": {
        "id": "yUZGw-ETwKA5",
        "colab_type": "code",
        "colab": {}
      },
      "source": [
        "X_train, X_test, y_train, y_test = train_test_split(X, y, test_size=0.2, stratify=y, random_state=42) \n",
        "#del X, y #deleting for freeing space on disc\n",
        "\n",
        "train_dataset = MriData(X_train, y_train)\n",
        "test_dataset = MriData(X_test, y_test)\n",
        "#del X_train, X_test, y_train, y_test #deleting for freeing space on disc"
      ],
      "execution_count": 0,
      "outputs": []
    },
    {
      "cell_type": "code",
      "metadata": {
        "id": "BttsN8kG3YyG",
        "colab_type": "code",
        "colab": {}
      },
      "source": [
        "train_dataset = MriData(X_train, y_train)\n",
        "test_dataset = MriData(X_test, y_test)\n",
        "train_loader = torch.utils.data.DataLoader(train_dataset, batch_size=45, shuffle=True)  #45 - recommended value for batchsize\n",
        "val_loader = torch.utils.data.DataLoader(test_dataset, batch_size=28, shuffle=False) "
      ],
      "execution_count": 0,
      "outputs": []
    },
    {
      "cell_type": "code",
      "metadata": {
        "id": "YTbF3NuselOt",
        "colab_type": "code",
        "colab": {}
      },
      "source": [
        "device = torch.device('cuda' if torch.cuda.is_available() else 'cpu')"
      ],
      "execution_count": 0,
      "outputs": []
    },
    {
      "cell_type": "code",
      "metadata": {
        "id": "2pfMYs1vaca0",
        "colab_type": "code",
        "outputId": "fdf307e1-d77a-48b7-ba56-72d1bd79ab42",
        "colab": {
          "base_uri": "https://localhost:8080/",
          "height": 476
        }
      },
      "source": [
        "hidden = lambda c_in, c_out: nn.Sequential(\n",
        "    nn.Conv3d(c_in, c_out, (3,3,3)),\n",
        "    nn.BatchNorm3d(c_out),\n",
        "    nn.ReLU(),\n",
        "    nn.MaxPool3d(2)\n",
        ")\n",
        "\n",
        "class MriNet(nn.Module):\n",
        "    def __init__(self, c):\n",
        "        super(MriNet, self).__init__()\n",
        "        self.hidden1 = hidden(1, c)\n",
        "        self.hidden2 = hidden(c, 2*c)\n",
        "        self.hidden3 = hidden(2*c, 4*c)\n",
        "        self.linear = nn.Linear(128*5*7*5, 2)\n",
        "        self.flatten = nn.Flatten()\n",
        "\n",
        "    def forward(self, x):\n",
        "        x = self.hidden1(x)\n",
        "        x = self.hidden2(x)\n",
        "        x = self.hidden3(x)\n",
        "        x = self.flatten(x)\n",
        "        x = self.linear(x)\n",
        "        x = F.log_softmax(x, dim=1)\n",
        "        return x\n",
        "\n",
        "torch.manual_seed(1)\n",
        "np.random.seed(1)\n",
        "\n",
        "c = 32\n",
        "model = MriNet(c).to(device)\n",
        "summary(model, (1, 58, 70, 58))"
      ],
      "execution_count": 0,
      "outputs": [
        {
          "output_type": "stream",
          "text": [
            "----------------------------------------------------------------\n",
            "        Layer (type)               Output Shape         Param #\n",
            "================================================================\n",
            "            Conv3d-1       [-1, 32, 56, 68, 56]             896\n",
            "       BatchNorm3d-2       [-1, 32, 56, 68, 56]              64\n",
            "              ReLU-3       [-1, 32, 56, 68, 56]               0\n",
            "         MaxPool3d-4       [-1, 32, 28, 34, 28]               0\n",
            "            Conv3d-5       [-1, 64, 26, 32, 26]          55,360\n",
            "       BatchNorm3d-6       [-1, 64, 26, 32, 26]             128\n",
            "              ReLU-7       [-1, 64, 26, 32, 26]               0\n",
            "         MaxPool3d-8       [-1, 64, 13, 16, 13]               0\n",
            "            Conv3d-9      [-1, 128, 11, 14, 11]         221,312\n",
            "      BatchNorm3d-10      [-1, 128, 11, 14, 11]             256\n",
            "             ReLU-11      [-1, 128, 11, 14, 11]               0\n",
            "        MaxPool3d-12         [-1, 128, 5, 7, 5]               0\n",
            "          Flatten-13                [-1, 22400]               0\n",
            "           Linear-14                    [-1, 2]          44,802\n",
            "================================================================\n",
            "Total params: 322,818\n",
            "Trainable params: 322,818\n",
            "Non-trainable params: 0\n",
            "----------------------------------------------------------------\n",
            "Input size (MB): 0.90\n",
            "Forward/backward pass size (MB): 201.01\n",
            "Params size (MB): 1.23\n",
            "Estimated Total Size (MB): 203.14\n",
            "----------------------------------------------------------------\n"
          ],
          "name": "stdout"
        }
      ]
    },
    {
      "cell_type": "code",
      "metadata": {
        "id": "Ry5Deo3uYufS",
        "colab_type": "code",
        "colab": {}
      },
      "source": [
        "CHECKPOINTS_DIR =  './drive/My Drive/mri_data/checkpoints/'\n",
        "\n",
        "criterion = nn.NLLLoss().to(device)\n",
        "optimizer = torch.optim.Adam(model.parameters(), lr=3e-4)\n",
        "scheduler = torch.optim.lr_scheduler.MultiStepLR(optimizer, milestones=[5, 15], gamma=0.1)"
      ],
      "execution_count": 0,
      "outputs": []
    },
    {
      "cell_type": "code",
      "metadata": {
        "id": "M3FRygC5-juL",
        "colab_type": "code",
        "colab": {}
      },
      "source": [
        ""
      ],
      "execution_count": 0,
      "outputs": []
    },
    {
      "cell_type": "code",
      "metadata": {
        "id": "InIC1EMOZRHs",
        "colab_type": "code",
        "colab": {}
      },
      "source": [
        "def get_accuracy(net, data_loader):\n",
        "    net.eval()\n",
        "    correct = 0\n",
        "    for data, target in data_loader:\n",
        "        data = data.to(device)\n",
        "        target = target.to(device)\n",
        "\n",
        "        out = net(data)\n",
        "        pred = out.data.max(1)[1] # get the index of the max log-probability\n",
        "        correct += pred.eq(target.data).cpu().sum()\n",
        "        del data, target\n",
        "    accuracy = 100. * correct / len(data_loader.dataset)\n",
        "    return accuracy.item()\n",
        "\n",
        "def get_loss(net, data_loader):\n",
        "    net.eval()\n",
        "    loss = 0 \n",
        "    for data, target in data_loader:\n",
        "        data = data.to(device)\n",
        "        target = target.to(device)\n",
        "\n",
        "        out = net(data)\n",
        "        loss += criterion(out, target).item()*len(data)\n",
        "\n",
        "        del data, target, out \n",
        "\n",
        "    return loss / len(data_loader.dataset)\n",
        "\n",
        "\n",
        "def train(epochs, net, criterion, optimizer, train_loader, val_loader, scheduler=None, verbose=True, save=False):\n",
        "    best_val_loss = 100_000\n",
        "    best_model = None\n",
        "    train_loss_list = []\n",
        "    val_loss_list = []\n",
        "    train_acc_list = []\n",
        "    val_acc_list = []\n",
        "\n",
        "    train_loss_list.append(get_loss(net, train_loader))\n",
        "    val_loss_list.append(get_loss(net, val_loader))\n",
        "    train_acc_list.append(get_accuracy(net, train_loader))\n",
        "    val_acc_list.append(get_accuracy(net, val_loader))\n",
        "    if verbose:\n",
        "        print('Epoch {:02d}/{} || Loss:  Train {:.4f} | Validation {:.4f}'.format(0, epochs, train_loss_list[-1], val_loss_list[-1]))\n",
        "\n",
        "    net.to(device)\n",
        "    for epoch in range(1, epochs+1):\n",
        "        net.train()\n",
        "        for X, y in train_loader:\n",
        "            # Perform one step of minibatch stochastic gradient descent\n",
        "            X, y = X.to(device), y.to(device)\n",
        "            optimizer.zero_grad()\n",
        "            out = net(X)\n",
        "            loss = criterion(out, y)\n",
        "            loss.backward()\n",
        "            optimizer.step()\n",
        "            del X, y, out, loss #freeing gpu space\n",
        "            \n",
        "        \n",
        "        # define NN evaluation, i.e. turn off dropouts, batchnorms, etc.\n",
        "        net.eval()\n",
        "        for X, y in val_loader:\n",
        "            # Compute the validation loss\n",
        "            X, y = X.to(device), y.to(device)\n",
        "            out = net(X)\n",
        "            del X, y, out #freeing gpu space\n",
        "         \n",
        "        if scheduler is not None:\n",
        "            scheduler.step()\n",
        "        \n",
        "        \n",
        "        train_loss_list.append(get_loss(net, train_loader))\n",
        "        val_loss_list.append(get_loss(net, val_loader))\n",
        "        train_acc_list.append(get_accuracy(net, train_loader))\n",
        "        val_acc_list.append(get_accuracy(net, val_loader))\n",
        "\n",
        "        if save and val_loss_list[-1] < best_val_loss:\n",
        "            torch.save(net.state_dict(), CHECKPOINTS_DIR+'best_model')\n",
        "        freq = 1\n",
        "        if verbose and epoch%freq==0:\n",
        "            print('Epoch {:02d}/{} || Loss:  Train {:.4f} | Validation {:.4f}'.format(epoch, epochs, train_loss_list[-1], val_loss_list[-1]))\n",
        "        \n",
        "    return train_loss_list, val_loss_list, train_acc_list, val_acc_list\n",
        "            \n",
        "            "
      ],
      "execution_count": 0,
      "outputs": []
    },
    {
      "cell_type": "code",
      "metadata": {
        "id": "ETQqxi4CeFgm",
        "colab_type": "code",
        "outputId": "9d21ffb8-5984-44fc-f7db-09ee241c1c9b",
        "colab": {
          "base_uri": "https://localhost:8080/",
          "height": 374
        }
      },
      "source": [
        "torch.manual_seed(1)\n",
        "np.random.seed(1)\n",
        "EPOCHS = 20\n",
        "\n",
        "train_loss_list, val_loss_list, train_acc_list, val_acc_list = train(EPOCHS, model, criterion, optimizer, train_loader, val_loader, scheduler=scheduler, save=False) "
      ],
      "execution_count": 0,
      "outputs": [
        {
          "output_type": "stream",
          "text": [
            "Epoch 00/20 || Loss:  Train 45.9613 | Validation 45.1046\n",
            "Epoch 01/20 || Loss:  Train 0.4712 | Validation 0.6883\n",
            "Epoch 02/20 || Loss:  Train 0.2873 | Validation 0.3706\n",
            "Epoch 03/20 || Loss:  Train 0.2292 | Validation 0.3055\n",
            "Epoch 04/20 || Loss:  Train 0.2900 | Validation 0.3641\n",
            "Epoch 05/20 || Loss:  Train 0.2369 | Validation 0.3032\n",
            "Epoch 06/20 || Loss:  Train 0.1916 | Validation 0.2540\n",
            "Epoch 07/20 || Loss:  Train 0.1854 | Validation 0.2496\n",
            "Epoch 08/20 || Loss:  Train 0.1889 | Validation 0.2532\n",
            "Epoch 09/20 || Loss:  Train 0.1827 | Validation 0.2477\n",
            "Epoch 10/20 || Loss:  Train 0.1754 | Validation 0.2450\n",
            "Epoch 11/20 || Loss:  Train 0.1714 | Validation 0.2417\n",
            "Epoch 12/20 || Loss:  Train 0.1677 | Validation 0.2383\n",
            "Epoch 13/20 || Loss:  Train 0.1722 | Validation 0.2528\n",
            "Epoch 14/20 || Loss:  Train 0.1636 | Validation 0.2424\n",
            "Epoch 15/20 || Loss:  Train 0.1560 | Validation 0.2328\n",
            "Epoch 16/20 || Loss:  Train 0.1546 | Validation 0.2307\n",
            "Epoch 17/20 || Loss:  Train 0.1541 | Validation 0.2299\n",
            "Epoch 18/20 || Loss:  Train 0.1539 | Validation 0.2298\n",
            "Epoch 19/20 || Loss:  Train 0.1533 | Validation 0.2296\n",
            "Epoch 20/20 || Loss:  Train 0.1527 | Validation 0.2291\n"
          ],
          "name": "stdout"
        }
      ]
    },
    {
      "cell_type": "code",
      "metadata": {
        "id": "AgbxRc1RsPEl",
        "colab_type": "code",
        "outputId": "74314be2-93c8-44c8-bc61-d04a7763b33c",
        "colab": {
          "base_uri": "https://localhost:8080/",
          "height": 386
        }
      },
      "source": [
        "plt.figure(figsize=(20,8))\n",
        "\n",
        "plt.subplot(1, 2, 1)\n",
        "plt.title('Loss history', fontsize=18)\n",
        "plt.plot(train_loss_list[1:], label='Train')\n",
        "plt.plot(val_loss_list[1:], label='Validation')\n",
        "plt.xlabel('# of epoch', fontsize=16)\n",
        "plt.ylabel('Loss', fontsize=16)\n",
        "plt.legend(fontsize=16)\n",
        "plt.grid()\n",
        "\n",
        "plt.subplot(1, 2, 2)\n",
        "plt.title('Accuracy history', fontsize=18)\n",
        "plt.plot(train_acc_list, label='Train')\n",
        "plt.plot(val_acc_list, label='Validation')\n",
        "plt.xlabel('# of epoch', fontsize=16)\n",
        "plt.ylabel('Accuracy', fontsize=16)\n",
        "plt.legend(fontsize=16)\n",
        "plt.grid()\n",
        "\n",
        "\n",
        "\n",
        "\n",
        "\n"
      ],
      "execution_count": 0,
      "outputs": [
        {
          "output_type": "display_data",
          "data": {
            "image/png": "[encoded data removed]",
            "text/plain": [
              "<Figure size 1440x576 with 2 Axes>"
            ]
          },
          "metadata": {
            "tags": []
          }
        }
      ]
    },
    {
      "cell_type": "markdown",
      "metadata": {
        "id": "OT1c6OQmwvRV",
        "colab_type": "text"
      },
      "source": [
        "## K-Fold training"
      ]
    },
    {
      "cell_type": "code",
      "metadata": {
        "id": "kwwuFwsH2Ifa",
        "colab_type": "code",
        "outputId": "6d74f0a6-5d20-478b-8195-0c3b9fbd477b",
        "colab": {
          "base_uri": "https://localhost:8080/",
          "height": 187
        }
      },
      "source": [
        "skf = StratifiedKFold(n_splits=10, shuffle=True, random_state=42)\n",
        "cross_vall_acc_list = []\n",
        "j = 0\n",
        "\n",
        "for train_index, test_index in skf.split(X, y):\n",
        "    print('Doing {} split'.format(j))\n",
        "    j += 1\n",
        "\n",
        "    X_train, X_test = X[train_index], X[test_index]\n",
        "    y_train, y_test = y[train_index], y[test_index]\n",
        "    train_dataset = MriData(X_train, y_train)\n",
        "    test_dataset = MriData(X_test, y_test)\n",
        "    train_loader = torch.utils.data.DataLoader(train_dataset, batch_size=45, shuffle=True)  #45 - recommended value for batchsize\n",
        "    val_loader = torch.utils.data.DataLoader(test_dataset, batch_size=28, shuffle=False) \n",
        "    \n",
        "    torch.manual_seed(1)\n",
        "    np.random.seed(1)\n",
        "\n",
        "    c = 32\n",
        "    model = MriNet(c).to(device)\n",
        "    criterion = nn.NLLLoss().to(device)\n",
        "    optimizer = torch.optim.Adam(model.parameters(), lr=3e-4)\n",
        "    scheduler = torch.optim.lr_scheduler.MultiStepLR(optimizer, milestones=[5, 15], gamma=0.1)\n",
        "\n",
        "    train(EPOCHS, model, criterion, optimizer, train_loader, val_loader, scheduler=scheduler, save=False, verbose=False) \n",
        "    cross_vall_acc_list.append(get_accuracy(model, val_loader))\n"
      ],
      "execution_count": 0,
      "outputs": [
        {
          "output_type": "stream",
          "text": [
            "Doing 0 split\n",
            "Doing 1 split\n",
            "Doing 2 split\n",
            "Doing 3 split\n",
            "Doing 4 split\n",
            "Doing 5 split\n",
            "Doing 6 split\n",
            "Doing 7 split\n",
            "Doing 8 split\n",
            "Doing 9 split\n"
          ],
          "name": "stdout"
        }
      ]
    },
    {
      "cell_type": "code",
      "metadata": {
        "id": "RKbs0w6HwynW",
        "colab_type": "code",
        "outputId": "fe1bba5a-b2ff-44c8-e43b-78bb66007fe8",
        "colab": {
          "base_uri": "https://localhost:8080/",
          "height": 34
        }
      },
      "source": [
        "print('Average cross-validation accuracy (10-folds):', sum(cross_vall_acc_list)/len(cross_vall_acc_list))"
      ],
      "execution_count": 0,
      "outputs": [
        {
          "output_type": "stream",
          "text": [
            "Average cross-validation accuracy (10-folds): 91.29263229370117\n"
          ],
          "name": "stdout"
        }
      ]
    },
    {
      "cell_type": "markdown",
      "metadata": {
        "id": "QLX_sxmGsgI2",
        "colab_type": "text"
      },
      "source": [
        "## Training model on whole data and saving it\n"
      ]
    },
    {
      "cell_type": "code",
      "metadata": {
        "id": "bSiiJhZZsf3u",
        "colab_type": "code",
        "colab": {}
      },
      "source": [
        "dataset = MriData(X, y)\n",
        "loader = torch.utils.data.DataLoader(dataset, batch_size=45, shuffle=True)  #45 - recommended value for batchsize\n",
        "\n",
        "torch.manual_seed(1)\n",
        "np.random.seed(1)\n",
        "\n",
        "model = MriNet(c).to(device)\n",
        "criterion = nn.NLLLoss().to(device)\n",
        "optimizer = torch.optim.Adam(model.parameters(), lr=3e-4)\n",
        "scheduler = torch.optim.lr_scheduler.MultiStepLR(optimizer, milestones=[5, 15], gamma=0.1)\n",
        "\n",
        "train(EPOCHS, model, criterion, optimizer, loader, loader, scheduler=scheduler, save=True, verbose=False) \n",
        "pass"
      ],
      "execution_count": 0,
      "outputs": []
    },
    {
      "cell_type": "code",
      "metadata": {
        "id": "0iieJC3X47e_",
        "colab_type": "code",
        "colab": {}
      },
      "source": [
        ""
      ],
      "execution_count": 0,
      "outputs": []
    }
  ]
}