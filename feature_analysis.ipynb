{
  "nbformat": 4,
  "nbformat_minor": 0,
  "metadata": {
    "colab": {
      "name": "feature_analysis.ipynb",
      "provenance": [],
      "collapsed_sections": [],
      "toc_visible": true
    },
    "kernelspec": {
      "name": "python3",
      "display_name": "Python 3"
    },
    "accelerator": "GPU"
  },
  "cells": [
    {
      "cell_type": "code",
      "metadata": {
        "id": "TbVC-fIYcwoA",
        "colab_type": "code",
        "colab": {
          "base_uri": "https://localhost:8080/",
          "height": 71
        },
        "outputId": "db78b4bc-a15a-4b70-bb17-ecf5b76b02f5"
      },
      "source": [
        "import numpy as np\n",
        "import matplotlib.pyplot as plt\n",
        "import pandas as pd\n",
        "import torch\n",
        "import torch.nn as nn\n",
        "import torch.utils.data as torch_data\n",
        "import torch.nn.functional as F\n",
        "from torchsummary import summary\n",
        "import os\n",
        "from sklearn.model_selection import train_test_split, StratifiedKFold\n",
        "import seaborn as sns\n",
        "from scipy import stats\n",
        "\n",
        "colors = sns.color_palette('colorblind')\n",
        "\n",
        "%matplotlib inline"
      ],
      "execution_count": 1,
      "outputs": [
        {
          "output_type": "stream",
          "text": [
            "/usr/local/lib/python3.6/dist-packages/statsmodels/tools/_testing.py:19: FutureWarning: pandas.util.testing is deprecated. Use the functions in the public API at pandas.testing instead.\n",
            "  import pandas.util.testing as tm\n"
          ],
          "name": "stderr"
        }
      ]
    },
    {
      "cell_type": "code",
      "metadata": {
        "id": "Ng1IcCer9NSG",
        "colab_type": "code",
        "outputId": "3c439e45-b4c0-4403-e74b-c1e9e05f9064",
        "colab": {
          "base_uri": "https://localhost:8080/",
          "height": 34
        }
      },
      "source": [
        "X, y = np.load('./drive/My Drive/mri_data/tensors.npy'), np.load('./drive/My Drive/mri_data/labels.npy')\n",
        "X = X[:, np.newaxis, :, :, :]\n",
        "print(X.shape, y.shape)"
      ],
      "execution_count": 2,
      "outputs": [
        {
          "output_type": "stream",
          "text": [
            "(1113, 1, 58, 70, 58) (1113,)\n"
          ],
          "name": "stdout"
        }
      ]
    },
    {
      "cell_type": "code",
      "metadata": {
        "id": "hjalzY4ZylGC",
        "colab_type": "code",
        "colab": {}
      },
      "source": [
        "class MriData(torch.utils.data.Dataset):\n",
        "    def __init__(self, X, y):\n",
        "        super(MriData, self).__init__()\n",
        "        self.X = torch.tensor(X, dtype=torch.float32)\n",
        "        self.y = torch.tensor(y).long()\n",
        "    \n",
        "    def __len__(self):\n",
        "        return self.X.shape[0]\n",
        "    \n",
        "    def __getitem__(self, idx):\n",
        "        return self.X[idx], self.y[idx]"
      ],
      "execution_count": 0,
      "outputs": []
    },
    {
      "cell_type": "markdown",
      "metadata": {
        "id": "qpOI2Jws9TeG",
        "colab_type": "text"
      },
      "source": [
        "## Loading model"
      ]
    },
    {
      "cell_type": "code",
      "metadata": {
        "id": "p5qY8bvX9X6a",
        "colab_type": "code",
        "outputId": "b6937e99-5f16-4e83-d25f-d9dadac4c203",
        "colab": {
          "base_uri": "https://localhost:8080/",
          "height": 476
        }
      },
      "source": [
        "device = torch.device('cuda' if torch.cuda.is_available() else 'cpu')\n",
        "\n",
        "hidden = lambda c_in, c_out: nn.Sequential(\n",
        "    nn.Conv3d(c_in, c_out, (3,3,3)),\n",
        "    nn.BatchNorm3d(c_out),\n",
        "    nn.ReLU(),\n",
        "    nn.MaxPool3d(2)\n",
        ")\n",
        "\n",
        "class MriNet(nn.Module):\n",
        "    def __init__(self, c):\n",
        "        super(MriNet, self).__init__()\n",
        "        self.hidden1 = hidden(1, c)\n",
        "        self.hidden2 = hidden(c, 2*c)\n",
        "        self.hidden3 = hidden(2*c, 4*c)\n",
        "        self.linear = nn.Linear(128*5*7*5, 2)\n",
        "        self.flatten = nn.Flatten()\n",
        "\n",
        "    def forward(self, x):\n",
        "        x = self.hidden1(x)\n",
        "        x = self.hidden2(x)\n",
        "        x = self.hidden3(x)\n",
        "        x = self.flatten(x)\n",
        "        x = self.linear(x)\n",
        "        x = F.log_softmax(x, dim=1)\n",
        "        return x\n",
        "\n",
        "torch.manual_seed(1)\n",
        "np.random.seed(1)\n",
        "\n",
        "c = 32\n",
        "model = MriNet(c).to(device)\n",
        "summary(model, (1, 58, 70, 58))"
      ],
      "execution_count": 5,
      "outputs": [
        {
          "output_type": "stream",
          "text": [
            "----------------------------------------------------------------\n",
            "        Layer (type)               Output Shape         Param #\n",
            "================================================================\n",
            "            Conv3d-1       [-1, 32, 56, 68, 56]             896\n",
            "       BatchNorm3d-2       [-1, 32, 56, 68, 56]              64\n",
            "              ReLU-3       [-1, 32, 56, 68, 56]               0\n",
            "         MaxPool3d-4       [-1, 32, 28, 34, 28]               0\n",
            "            Conv3d-5       [-1, 64, 26, 32, 26]          55,360\n",
            "       BatchNorm3d-6       [-1, 64, 26, 32, 26]             128\n",
            "              ReLU-7       [-1, 64, 26, 32, 26]               0\n",
            "         MaxPool3d-8       [-1, 64, 13, 16, 13]               0\n",
            "            Conv3d-9      [-1, 128, 11, 14, 11]         221,312\n",
            "      BatchNorm3d-10      [-1, 128, 11, 14, 11]             256\n",
            "             ReLU-11      [-1, 128, 11, 14, 11]               0\n",
            "        MaxPool3d-12         [-1, 128, 5, 7, 5]               0\n",
            "          Flatten-13                [-1, 22400]               0\n",
            "           Linear-14                    [-1, 2]          44,802\n",
            "================================================================\n",
            "Total params: 322,818\n",
            "Trainable params: 322,818\n",
            "Non-trainable params: 0\n",
            "----------------------------------------------------------------\n",
            "Input size (MB): 0.90\n",
            "Forward/backward pass size (MB): 201.01\n",
            "Params size (MB): 1.23\n",
            "Estimated Total Size (MB): 203.14\n",
            "----------------------------------------------------------------\n"
          ],
          "name": "stdout"
        }
      ]
    },
    {
      "cell_type": "code",
      "metadata": {
        "id": "BXhjknkY9XyB",
        "colab_type": "code",
        "outputId": "f73fd4e2-384c-4080-8da2-f84469d17b54",
        "colab": {
          "base_uri": "https://localhost:8080/",
          "height": 34
        }
      },
      "source": [
        "CHECKPOINTS_DIR =  './drive/My Drive/mri_data/checkpoints/'\n",
        "\n",
        "model.load_state_dict(torch.load(CHECKPOINTS_DIR+'best_model'))"
      ],
      "execution_count": 6,
      "outputs": [
        {
          "output_type": "execute_result",
          "data": {
            "text/plain": [
              "<All keys matched successfully>"
            ]
          },
          "metadata": {
            "tags": []
          },
          "execution_count": 6
        }
      ]
    },
    {
      "cell_type": "markdown",
      "metadata": {
        "id": "lJ9c1-kJ9z1I",
        "colab_type": "text"
      },
      "source": [
        "## Extraxting features"
      ]
    },
    {
      "cell_type": "code",
      "metadata": {
        "id": "ioo7b-MMNIYd",
        "colab_type": "code",
        "colab": {}
      },
      "source": [
        "def count_entropy(t):\n",
        "    entropy_matrix = np.zeros((t.shape[0], t.shape[1]))\n",
        "    for i in range(t.shape[0]):\n",
        "        for j in range(t.shape[1]):\n",
        "            hist, _ = np.histogram(t[i, j], bins=255)\n",
        "            hist = hist / (t.shape[2] * t.shape[3] * t.shape[4])\n",
        "            loghist = np.log(hist)\n",
        "            loghist[np.isneginf(loghist)] = 0\n",
        "            e = -np.sum(hist*loghist)\n",
        "            entropy_matrix[i, j] = e\n",
        "    return entropy_matrix"
      ],
      "execution_count": 0,
      "outputs": []
    },
    {
      "cell_type": "code",
      "metadata": {
        "id": "-ldq7H_q9Srl",
        "colab_type": "code",
        "colab": {}
      },
      "source": [
        "mri_dataset = MriData(X, y)\n",
        "mri_data_loader = torch.utils.data.DataLoader(mri_dataset, batch_size=47, shuffle=False) "
      ],
      "execution_count": 0,
      "outputs": []
    },
    {
      "cell_type": "code",
      "metadata": {
        "id": "l195Fnp694N4",
        "colab_type": "code",
        "outputId": "b7d460e7-6da3-435c-b392-74984c83be60",
        "colab": {
          "base_uri": "https://localhost:8080/",
          "height": 71
        }
      },
      "source": [
        "model.eval()\n",
        "exists = False\n",
        "\n",
        "for data, target in mri_data_loader:\n",
        "    data = data.to(device)\n",
        "    target = target.to(device)\n",
        "    features = model.hidden1(data)\n",
        "    \n",
        "    #male features\n",
        "    if exists:\n",
        "        male_features = np.vstack([male_features, features[torch.where(target == 1)].detach().mean(axis=(2,3,4)).cpu().numpy()])\n",
        "        male_entropy = np.vstack([male_entropy, count_entropy(features[torch.where(target == 1)].detach().cpu().numpy())])\n",
        "    else:\n",
        "        male_features = features[torch.where(target == 1)].detach().mean(axis=(2,3,4)).cpu().numpy()\n",
        "        male_entropy = count_entropy(features[torch.where(target == 1)].detach().cpu().numpy())\n",
        "\n",
        "    #female features\n",
        "    if exists:\n",
        "        female_features = np.vstack([female_features, features[torch.where(target == 0)].detach().mean(axis=(2,3,4)).cpu().numpy()])\n",
        "        female_entropy = np.vstack([female_entropy, count_entropy(features[torch.where(target == 0)].detach().cpu().numpy())])\n",
        "    else:\n",
        "        female_features = features[torch.where(target == 0)].detach().mean(axis=(2,3,4)).cpu().numpy()\n",
        "        female_entropy = count_entropy(features[torch.where(target == 0)].detach().cpu().numpy())\n",
        "        exists = True\n",
        "\n",
        "    del data, target, features"
      ],
      "execution_count": 9,
      "outputs": [
        {
          "output_type": "stream",
          "text": [
            "/usr/local/lib/python3.6/dist-packages/ipykernel_launcher.py:7: RuntimeWarning: divide by zero encountered in log\n",
            "  import sys\n"
          ],
          "name": "stderr"
        }
      ]
    },
    {
      "cell_type": "markdown",
      "metadata": {
        "id": "rfj--0RgIjb5",
        "colab_type": "text"
      },
      "source": [
        "## Between-group differencies of 32 features mean voxel values"
      ]
    },
    {
      "cell_type": "code",
      "metadata": {
        "id": "I4-uk4cqFMr4",
        "colab_type": "code",
        "colab": {}
      },
      "source": [
        "m = male_features.mean(axis=0)\n",
        "f = female_features.mean(axis=0)\n",
        "m_ci = 2*male_features.std(axis=0)/np.sqrt(len(male_features))\n",
        "f_ci = 2*female_features.std(axis=0)/np.sqrt(len(female_features))"
      ],
      "execution_count": 0,
      "outputs": []
    },
    {
      "cell_type": "code",
      "metadata": {
        "id": "nQjv7qjAlSK5",
        "colab_type": "code",
        "outputId": "c33e9a54-05bf-417b-e7d5-4383156edbc0",
        "colab": {
          "base_uri": "https://localhost:8080/",
          "height": 68
        }
      },
      "source": [
        "differencies = [None]*32\n",
        "nb_diffs_male = 0\n",
        "nb_diffs_female = 0\n",
        "\n",
        "\n",
        "for i in range(32):\n",
        "    s, p = stats.ttest_ind(male_features[:, i], female_features[:, i])\n",
        "    if p < 0.05:\n",
        "        if s < 0:\n",
        "            nb_diffs_female += 1\n",
        "            differencies[i] = -1 #female value is significantly larger\n",
        "        else:\n",
        "            nb_diffs_male += 1\n",
        "            differencies[i] = 1 #male value is significantly larger\n",
        "    else:\n",
        "        differencies[i] = 0 #there is no difference\n",
        "\n",
        "print('Number of features with significantly large difference: {}/32'.format(nb_diffs_female+nb_diffs_male))\n",
        "print('Number of features with significantly large female values: {}/32'.format(nb_diffs_female))\n",
        "print('Number of features with significantly large male values: {}/32'.format(nb_diffs_male))"
      ],
      "execution_count": 11,
      "outputs": [
        {
          "output_type": "stream",
          "text": [
            "Number of features with significantly large difference: 31/32\n",
            "Number of features with significantly large female values: 10/32\n",
            "Number of features with significantly large male values: 21/32\n"
          ],
          "name": "stdout"
        }
      ]
    },
    {
      "cell_type": "code",
      "metadata": {
        "id": "5trG7mFR94BK",
        "colab_type": "code",
        "outputId": "574ff550-a16b-4504-9d36-126cb2097328",
        "colab": {
          "base_uri": "https://localhost:8080/",
          "height": 639
        }
      },
      "source": [
        "plt.figure(figsize=(10,10))\n",
        "plt.title('Between-group differencies of 32 features in voxel values', fontsize=24)\n",
        "plt.xlabel('Mean of voxel values', fontsize=18)\n",
        "plt.ylabel('# of feature', fontsize=18)\n",
        "\n",
        "p1 = plt.barh(np.arange(1,33)-0.15 , m, 0.30, color = 'blue', xerr=m_ci)\n",
        "p2 = plt.barh(np.arange(1,33)+0.15 , f, 0.30, color = 'red', xerr=f_ci)    \n",
        "\n",
        "for i in range(32):\n",
        "    if differencies[i] == 0:\n",
        "        continue\n",
        "    if differencies[i] == 1:\n",
        "        xx = m[i]+.010\n",
        "        symbol = '*' # * - men > women\n",
        "    else:\n",
        "        xx = f[i]+.001\n",
        "        symbol = '+' # + - women > men\n",
        "\n",
        "    plt.text(xx, i+.71, symbol, fontsize=14)\n",
        "\n",
        "plt.ylim((0.6, 32.4))\n",
        "plt.yticks(np.arange(1,33))\n",
        "\n",
        "plt.legend((p1[0], p2[0]), ('Men', 'Women'), fontsize=16)\n",
        "\n",
        "plt.savefig('feature_mean_values.png', bbox_inches = 'tight', pad_inches = 0.005, dpi = 300) "
      ],
      "execution_count": 12,
      "outputs": [
        {
          "output_type": "display_data",
          "data": {
            "image/png": "[encoded data removed]",
            "text/plain": [
              "<Figure size 720x720 with 1 Axes>"
            ]
          },
          "metadata": {
            "tags": []
          }
        }
      ]
    },
    {
      "cell_type": "markdown",
      "metadata": {
        "id": "dKpotaz_KX6w",
        "colab_type": "text"
      },
      "source": [
        "## Between-group differencies of 32 features entropy values"
      ]
    },
    {
      "cell_type": "code",
      "metadata": {
        "id": "Rg5QZNa593_N",
        "colab_type": "code",
        "colab": {}
      },
      "source": [
        "m = male_entropy.mean(axis=0)\n",
        "f = female_entropy.mean(axis=0)\n",
        "m_ci = 2*male_entropy.std(axis=0)/np.sqrt(len(male_entropy))\n",
        "f_ci = 2*female_entropy.std(axis=0)/np.sqrt(len(female_entropy))"
      ],
      "execution_count": 0,
      "outputs": []
    },
    {
      "cell_type": "code",
      "metadata": {
        "id": "lucO3dkG939Y",
        "colab_type": "code",
        "outputId": "fec8ee76-8a69-4d8d-f3cb-89bca5092a3c",
        "colab": {
          "base_uri": "https://localhost:8080/",
          "height": 639
        }
      },
      "source": [
        "plt.figure(figsize=(10,10))\n",
        "plt.title('Between-group differencies of 32 features in entropy values', fontsize=24)\n",
        "plt.xlabel('Entropy', fontsize=18)\n",
        "plt.ylabel('# of feature', fontsize=18)\n",
        "\n",
        "p1 = plt.barh(np.arange(1,33)-0.15 , m, 0.30, color = 'blue', xerr=m_ci)\n",
        "p2 = plt.barh(np.arange(1,33)+0.15 , f, 0.30, color = 'red', xerr=f_ci)      \n",
        "\n",
        "plt.ylim((0.6, 32.4))\n",
        "plt.yticks(np.arange(1,33))\n",
        "\n",
        "plt.legend((p1[0], p2[0]), ('Men', 'Women'), fontsize=16)\n",
        "\n",
        "plt.savefig('feature_entropy.png', bbox_inches = 'tight', pad_inches = 0.005, dpi = 300) "
      ],
      "execution_count": 14,
      "outputs": [
        {
          "output_type": "display_data",
          "data": {
            "image/png": "[encoded data removed]",
            "text/plain": [
              "<Figure size 720x720 with 1 Axes>"
            ]
          },
          "metadata": {
            "tags": []
          }
        }
      ]
    },
    {
      "cell_type": "code",
      "metadata": {
        "id": "0iieJC3X47e_",
        "colab_type": "code",
        "colab": {}
      },
      "source": [
        ""
      ],
      "execution_count": 0,
      "outputs": []
    }
  ]
}