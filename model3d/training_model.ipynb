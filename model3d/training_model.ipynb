{
 "cells": [
  {
   "cell_type": "code",
   "execution_count": 1,
   "metadata": {
    "colab": {},
    "colab_type": "code",
    "id": "TbVC-fIYcwoA"
   },
   "outputs": [],
   "source": [
    "import numpy as np\n",
    "import matplotlib.pyplot as plt\n",
    "%matplotlib inline\n",
    "import torch\n",
    "import torch.nn as nn\n",
    "import torch.utils.data as torch_data\n",
    "import torch.nn.functional as F\n",
    "from sklearn.model_selection import train_test_split, StratifiedKFold\n",
    "from torchsummary import summary\n",
    "import os\n",
    "\n",
    "os.chdir('../')\n",
    "from model3d import mri_model\n",
    "from mri_model import train, get_accuracy\n",
    "from masks.grad_cam import MriNetGrad\n",
    "\n",
    "device = torch.device('cuda:0' if torch.cuda.is_available() else 'cpu')\n",
    "torch.manual_seed(47)\n",
    "np.random.seed(47)\n",
    "CHECKPOINTS_DIR = './checkpoints/'"
   ]
  },
  {
   "cell_type": "code",
   "execution_count": null,
   "metadata": {
    "colab": {
     "base_uri": "https://localhost:8080/",
     "height": 34
    },
    "colab_type": "code",
    "id": "Ng1IcCer9NSG",
    "outputId": "80391a88-09df-46b0-93c0-736ca9dbfd3b"
   },
   "outputs": [],
   "source": [
    "X, y = np.load('./data/tensors.npy'), np.load('./data/labels.npy')\n",
    "X = X[:, np.newaxis, :, :, :]\n",
    "print(X.shape, y.shape)"
   ]
  },
  {
   "cell_type": "markdown",
   "metadata": {
    "colab_type": "text",
    "id": "tHCd642CUW8R"
   },
   "source": [
    "## SVM (cross validation)"
   ]
  },
  {
   "cell_type": "code",
   "execution_count": 3,
   "metadata": {
    "colab": {},
    "colab_type": "code",
    "id": "Nv5nVtj-UWO-"
   },
   "outputs": [],
   "source": [
    "from sklearn.svm import SVC\n",
    "from sklearn.metrics import accuracy_score\n",
    "from sklearn.model_selection import cross_val_score"
   ]
  },
  {
   "cell_type": "code",
   "execution_count": null,
   "metadata": {
    "colab": {},
    "colab_type": "code",
    "id": "_nSJHGf4UZZ2"
   },
   "outputs": [],
   "source": [
    "X_f = X.reshape(X.shape[0], -1).copy()\n",
    "svc = SVC()\n",
    "cv_results = cross_val_score(svc, X_f, y, cv=10)\n",
    "print('Average cross-validation accuracy for SVM (10-folds):', np.mean(cv_results))\n",
    "print('Std cross-validation accuracy for SVM (10-folds):', np.std(cv_results, ddof=1))"
   ]
  },
  {
   "cell_type": "markdown",
   "metadata": {
    "colab_type": "text",
    "id": "wUtTLI4ZwhDi"
   },
   "source": [
    "## Non-cross-validation training"
   ]
  },
  {
   "cell_type": "code",
   "execution_count": null,
   "metadata": {
    "colab": {},
    "colab_type": "code",
    "id": "yUZGw-ETwKA5"
   },
   "outputs": [],
   "source": [
    "X_train, X_test, y_train, y_test = train_test_split(X, y, test_size=0.2, stratify=y, random_state=42) \n",
    "train_dataset = mri_model.MriData(X_train, y_train)\n",
    "test_dataset = mri_model.MriData(X_test, y_test)\n",
    "train_loader = torch_data.DataLoader(train_dataset, batch_size=45, shuffle=True)  #45 - recommended value for batchsize\n",
    "val_loader = torch_data.DataLoader(test_dataset, batch_size=28, shuffle=False) \n",
    "EPOCHS = 20\n",
    "C = 32"
   ]
  },
  {
   "cell_type": "code",
   "execution_count": 5,
   "metadata": {
    "colab": {
     "base_uri": "https://localhost:8080/",
     "height": 476
    },
    "colab_type": "code",
    "id": "2pfMYs1vaca0",
    "outputId": "fdf307e1-d77a-48b7-ba56-72d1bd79ab42"
   },
   "outputs": [
    {
     "name": "stdout",
     "output_type": "stream",
     "text": [
      "----------------------------------------------------------------\n",
      "        Layer (type)               Output Shape         Param #\n",
      "================================================================\n",
      "            Conv3d-1       [-1, 32, 56, 68, 56]             896\n",
      "       BatchNorm3d-2       [-1, 32, 56, 68, 56]              64\n",
      "              ReLU-3       [-1, 32, 56, 68, 56]               0\n",
      "         MaxPool3d-4       [-1, 32, 28, 34, 28]               0\n",
      "            Conv3d-5       [-1, 64, 26, 32, 26]          55,360\n",
      "       BatchNorm3d-6       [-1, 64, 26, 32, 26]             128\n",
      "              ReLU-7       [-1, 64, 26, 32, 26]               0\n",
      "         MaxPool3d-8       [-1, 64, 13, 16, 13]               0\n",
      "            Conv3d-9      [-1, 128, 11, 14, 11]         221,312\n",
      "      BatchNorm3d-10      [-1, 128, 11, 14, 11]             256\n",
      "             ReLU-11      [-1, 128, 11, 14, 11]               0\n",
      "        MaxPool3d-12         [-1, 128, 5, 7, 5]               0\n",
      "          Flatten-13                [-1, 22400]               0\n",
      "          Dropout-14                [-1, 22400]               0\n",
      "           Linear-15                    [-1, 2]          44,802\n",
      "================================================================\n",
      "Total params: 322,818\n",
      "Trainable params: 322,818\n",
      "Non-trainable params: 0\n",
      "----------------------------------------------------------------\n",
      "Input size (MB): 0.90\n",
      "Forward/backward pass size (MB): 201.18\n",
      "Params size (MB): 1.23\n",
      "Estimated Total Size (MB): 203.31\n",
      "----------------------------------------------------------------\n"
     ]
    }
   ],
   "source": [
    "model = mri_model.MriNet(C).to(device)\n",
    "optimizer = torch.optim.Adam(model.parameters(), lr=3e-4, weight_decay=1e-5)\n",
    "scheduler = torch.optim.lr_scheduler.MultiStepLR(optimizer, milestones=[15, 25], gamma=0.3)\n",
    "summary(model, (1, 58, 70, 58))"
   ]
  },
  {
   "cell_type": "code",
   "execution_count": 6,
   "metadata": {
    "colab": {},
    "colab_type": "code",
    "id": "Ry5Deo3uYufS"
   },
   "outputs": [
    {
     "name": "stdout",
     "output_type": "stream",
     "text": [
      "Epoch 00/20 || Loss:  Train 45.8454 | Validation 45.9936\n",
      "Epoch 01/20 || Loss:  Train 2.3479 | Validation 2.5747\n",
      "Epoch 02/20 || Loss:  Train 0.4535 | Validation 0.5755\n",
      "Epoch 03/20 || Loss:  Train 0.2501 | Validation 0.3007\n",
      "Epoch 04/20 || Loss:  Train 0.2415 | Validation 0.2896\n",
      "Epoch 05/20 || Loss:  Train 0.2286 | Validation 0.3002\n",
      "Epoch 06/20 || Loss:  Train 0.2197 | Validation 0.2933\n",
      "Epoch 07/20 || Loss:  Train 0.2639 | Validation 0.3257\n",
      "Epoch 08/20 || Loss:  Train 0.2155 | Validation 0.3103\n",
      "Epoch 09/20 || Loss:  Train 0.2244 | Validation 0.2960\n",
      "Epoch 10/20 || Loss:  Train 0.1838 | Validation 0.2622\n",
      "Epoch 11/20 || Loss:  Train 0.2835 | Validation 0.4228\n",
      "Epoch 12/20 || Loss:  Train 0.1776 | Validation 0.2640\n",
      "Epoch 13/20 || Loss:  Train 0.1484 | Validation 0.2413\n",
      "Epoch 14/20 || Loss:  Train 0.1756 | Validation 0.2823\n",
      "Epoch 15/20 || Loss:  Train 0.1395 | Validation 0.2541\n",
      "Epoch 16/20 || Loss:  Train 0.1173 | Validation 0.2277\n",
      "Epoch 17/20 || Loss:  Train 0.1130 | Validation 0.2207\n",
      "Epoch 18/20 || Loss:  Train 0.1023 | Validation 0.2108\n",
      "Epoch 19/20 || Loss:  Train 0.0948 | Validation 0.2083\n",
      "Epoch 20/20 || Loss:  Train 0.1206 | Validation 0.2555\n"
     ]
    }
   ],
   "source": [
    "criterion = nn.NLLLoss().to(device)\n",
    "train_loss_list, val_loss_list, train_acc_list, val_acc_list = train(EPOCHS, model, criterion, optimizer, train_loader, val_loader, device, scheduler=scheduler, save=False) "
   ]
  },
  {
   "cell_type": "code",
   "execution_count": 7,
   "metadata": {},
   "outputs": [
    {
     "data": {
      "image/png": "[encoded data removed]",
      "text/plain": [
       "<Figure size 1440x576 with 2 Axes>"
      ]
     },
     "metadata": {
      "needs_background": "light"
     },
     "output_type": "display_data"
    }
   ],
   "source": [
    "plt.figure(figsize=(20,8))\n",
    "plt.subplot(1, 2, 1)\n",
    "plt.title('Loss history', fontsize=18)\n",
    "plt.plot(train_loss_list[1:], label='Train')\n",
    "plt.plot(val_loss_list[1:], label='Validation')\n",
    "plt.xlabel('# of epoch', fontsize=16)\n",
    "plt.ylabel('Loss', fontsize=16)\n",
    "plt.legend(fontsize=16)\n",
    "plt.grid()\n",
    "plt.subplot(1, 2, 2)\n",
    "plt.title('Accuracy history', fontsize=18)\n",
    "plt.plot(train_acc_list, label='Train')\n",
    "plt.plot(val_acc_list, label='Validation')\n",
    "plt.xlabel('# of epoch', fontsize=16)\n",
    "plt.ylabel('Accuracy', fontsize=16)\n",
    "plt.legend(fontsize=16)\n",
    "plt.grid()"
   ]
  },
  {
   "cell_type": "markdown",
   "metadata": {},
   "source": [
    "## Train model with grad hook"
   ]
  },
  {
   "cell_type": "code",
   "execution_count": 6,
   "metadata": {},
   "outputs": [
    {
     "name": "stdout",
     "output_type": "stream",
     "text": [
      "Epoch 00/20 || Loss:  Train 42.0621 | Validation 42.2451\n",
      "Epoch 01/20 || Loss:  Train 0.6463 | Validation 0.7124\n",
      "Epoch 02/20 || Loss:  Train 0.2857 | Validation 0.3526\n",
      "Epoch 03/20 || Loss:  Train 0.2407 | Validation 0.2997\n",
      "Epoch 04/20 || Loss:  Train 0.2440 | Validation 0.3228\n",
      "Epoch 05/20 || Loss:  Train 0.2146 | Validation 0.2814\n",
      "Epoch 06/20 || Loss:  Train 0.2051 | Validation 0.2814\n",
      "Epoch 07/20 || Loss:  Train 0.2223 | Validation 0.3235\n",
      "Epoch 08/20 || Loss:  Train 0.1784 | Validation 0.2561\n",
      "Epoch 09/20 || Loss:  Train 0.1677 | Validation 0.2585\n",
      "Epoch 10/20 || Loss:  Train 0.1545 | Validation 0.2462\n",
      "Epoch 11/20 || Loss:  Train 0.1443 | Validation 0.2303\n",
      "Epoch 12/20 || Loss:  Train 0.1518 | Validation 0.2778\n",
      "Epoch 13/20 || Loss:  Train 0.1295 | Validation 0.2420\n",
      "Epoch 14/20 || Loss:  Train 0.1819 | Validation 0.2882\n",
      "Epoch 15/20 || Loss:  Train 0.1515 | Validation 0.2863\n",
      "Epoch 16/20 || Loss:  Train 0.1241 | Validation 0.2393\n",
      "Epoch 17/20 || Loss:  Train 0.1074 | Validation 0.2254\n",
      "Epoch 18/20 || Loss:  Train 0.1197 | Validation 0.2629\n",
      "Epoch 19/20 || Loss:  Train 0.0931 | Validation 0.2229\n",
      "Epoch 20/20 || Loss:  Train 0.1119 | Validation 0.2761\n"
     ]
    }
   ],
   "source": [
    "model = MriNetGrad(C).to(device)\n",
    "optimizer = torch.optim.Adam(model.parameters(), lr=3e-4, weight_decay=1e-5)\n",
    "scheduler = torch.optim.lr_scheduler.MultiStepLR(optimizer, milestones=[15, 25], gamma=0.3)\n",
    "criterion = nn.CrossEntropyLoss()\n",
    "train_loss_list, val_loss_list, train_acc_list, val_acc_list = train(EPOCHS, model, criterion, optimizer, train_loader, val_loader,device, scheduler=scheduler, save=False)"
   ]
  },
  {
   "cell_type": "markdown",
   "metadata": {
    "colab_type": "text",
    "id": "OT1c6OQmwvRV"
   },
   "source": [
    "## K-Fold training"
   ]
  },
  {
   "cell_type": "code",
   "execution_count": 4,
   "metadata": {
    "colab": {
     "base_uri": "https://localhost:8080/",
     "height": 187
    },
    "colab_type": "code",
    "id": "kwwuFwsH2Ifa",
    "outputId": "6d74f0a6-5d20-478b-8195-0c3b9fbd477b"
   },
   "outputs": [
    {
     "name": "stdout",
     "output_type": "stream",
     "text": [
      "Doing 0 split\n",
      "Epoch 00/20 || Loss:  Train 25.3967 | Validation 25.1313\n",
      "Epoch 01/20 || Loss:  Train 0.3261 | Validation 0.3913\n",
      "Epoch 02/20 || Loss:  Train 0.2694 | Validation 0.3494\n",
      "Epoch 03/20 || Loss:  Train 0.2531 | Validation 0.3205\n",
      "Epoch 04/20 || Loss:  Train 0.2512 | Validation 0.3408\n",
      "Epoch 05/20 || Loss:  Train 0.2240 | Validation 0.2893\n",
      "Epoch 06/20 || Loss:  Train 0.2234 | Validation 0.2906\n",
      "Epoch 07/20 || Loss:  Train 0.2003 | Validation 0.2714\n",
      "Epoch 08/20 || Loss:  Train 0.2001 | Validation 0.2785\n",
      "Epoch 09/20 || Loss:  Train 0.2071 | Validation 0.2933\n",
      "Epoch 10/20 || Loss:  Train 0.1888 | Validation 0.2643\n",
      "Epoch 11/20 || Loss:  Train 0.1855 | Validation 0.2587\n",
      "Epoch 12/20 || Loss:  Train 0.1830 | Validation 0.2592\n",
      "Epoch 13/20 || Loss:  Train 0.1798 | Validation 0.2569\n",
      "Epoch 14/20 || Loss:  Train 0.1839 | Validation 0.2604\n",
      "Epoch 15/20 || Loss:  Train 0.1783 | Validation 0.2555\n",
      "Epoch 16/20 || Loss:  Train 0.1730 | Validation 0.2518\n",
      "Epoch 17/20 || Loss:  Train 0.1723 | Validation 0.2519\n",
      "Epoch 18/20 || Loss:  Train 0.1719 | Validation 0.2522\n",
      "Epoch 19/20 || Loss:  Train 0.1716 | Validation 0.2516\n",
      "Epoch 20/20 || Loss:  Train 0.1711 | Validation 0.2514\n",
      "Doing 1 split\n",
      "Epoch 00/20 || Loss:  Train 3.8222 | Validation 3.9063\n",
      "Epoch 01/20 || Loss:  Train 0.4339 | Validation 0.4976\n",
      "Epoch 02/20 || Loss:  Train 0.3739 | Validation 0.4742\n",
      "Epoch 03/20 || Loss:  Train 0.2420 | Validation 0.3222\n",
      "Epoch 04/20 || Loss:  Train 0.2183 | Validation 0.3130\n",
      "Epoch 05/20 || Loss:  Train 0.2176 | Validation 0.3203\n",
      "Epoch 06/20 || Loss:  Train 0.2005 | Validation 0.2960\n",
      "Epoch 07/20 || Loss:  Train 0.1980 | Validation 0.3020\n",
      "Epoch 08/20 || Loss:  Train 0.1912 | Validation 0.2925\n",
      "Epoch 09/20 || Loss:  Train 0.1881 | Validation 0.2892\n",
      "Epoch 10/20 || Loss:  Train 0.1835 | Validation 0.2909\n",
      "Epoch 11/20 || Loss:  Train 0.1803 | Validation 0.2870\n",
      "Epoch 12/20 || Loss:  Train 0.1769 | Validation 0.2850\n",
      "Epoch 13/20 || Loss:  Train 0.1730 | Validation 0.2821\n",
      "Epoch 14/20 || Loss:  Train 0.1760 | Validation 0.2848\n",
      "Epoch 15/20 || Loss:  Train 0.1754 | Validation 0.2826\n",
      "Epoch 16/20 || Loss:  Train 0.1650 | Validation 0.2771\n",
      "Epoch 17/20 || Loss:  Train 0.1645 | Validation 0.2767\n",
      "Epoch 18/20 || Loss:  Train 0.1640 | Validation 0.2755\n",
      "Epoch 19/20 || Loss:  Train 0.1638 | Validation 0.2754\n",
      "Epoch 20/20 || Loss:  Train 0.1632 | Validation 0.2757\n",
      "Doing 2 split\n",
      "Epoch 00/20 || Loss:  Train 12.3949 | Validation 12.1588\n",
      "Epoch 01/20 || Loss:  Train 0.4095 | Validation 0.5831\n",
      "Epoch 02/20 || Loss:  Train 0.3633 | Validation 0.4579\n",
      "Epoch 03/20 || Loss:  Train 0.2466 | Validation 0.3336\n",
      "Epoch 04/20 || Loss:  Train 0.2277 | Validation 0.3368\n",
      "Epoch 05/20 || Loss:  Train 0.2250 | Validation 0.3496\n",
      "Epoch 06/20 || Loss:  Train 0.2046 | Validation 0.3189\n",
      "Epoch 07/20 || Loss:  Train 0.2030 | Validation 0.3205\n",
      "Epoch 08/20 || Loss:  Train 0.1995 | Validation 0.3115\n",
      "Epoch 09/20 || Loss:  Train 0.1962 | Validation 0.3114\n",
      "Epoch 10/20 || Loss:  Train 0.1957 | Validation 0.3074\n",
      "Epoch 11/20 || Loss:  Train 0.1985 | Validation 0.3082\n",
      "Epoch 12/20 || Loss:  Train 0.1877 | Validation 0.3050\n",
      "Epoch 13/20 || Loss:  Train 0.1895 | Validation 0.3040\n",
      "Epoch 14/20 || Loss:  Train 0.1844 | Validation 0.3080\n",
      "Epoch 15/20 || Loss:  Train 0.1940 | Validation 0.3277\n",
      "Epoch 16/20 || Loss:  Train 0.1789 | Validation 0.3000\n",
      "Epoch 17/20 || Loss:  Train 0.1805 | Validation 0.2990\n",
      "Epoch 18/20 || Loss:  Train 0.1779 | Validation 0.3007\n",
      "Epoch 19/20 || Loss:  Train 0.1776 | Validation 0.2996\n",
      "Epoch 20/20 || Loss:  Train 0.1775 | Validation 0.3004\n",
      "Doing 3 split\n",
      "Epoch 00/20 || Loss:  Train 53.1381 | Validation 53.3784\n",
      "Epoch 01/20 || Loss:  Train 0.5818 | Validation 0.5711\n",
      "Epoch 02/20 || Loss:  Train 0.3029 | Validation 0.2513\n",
      "Epoch 03/20 || Loss:  Train 0.2279 | Validation 0.1984\n",
      "Epoch 04/20 || Loss:  Train 0.2007 | Validation 0.1970\n",
      "Epoch 05/20 || Loss:  Train 0.1691 | Validation 0.1736\n",
      "Epoch 06/20 || Loss:  Train 0.1620 | Validation 0.1780\n",
      "Epoch 07/20 || Loss:  Train 0.1564 | Validation 0.1752\n",
      "Epoch 08/20 || Loss:  Train 0.1492 | Validation 0.1692\n",
      "Epoch 09/20 || Loss:  Train 0.1465 | Validation 0.1725\n",
      "Epoch 10/20 || Loss:  Train 0.1431 | Validation 0.1752\n",
      "Epoch 11/20 || Loss:  Train 0.1366 | Validation 0.1643\n",
      "Epoch 12/20 || Loss:  Train 0.1341 | Validation 0.1713\n",
      "Epoch 13/20 || Loss:  Train 0.1327 | Validation 0.1640\n",
      "Epoch 14/20 || Loss:  Train 0.1288 | Validation 0.1635\n",
      "Epoch 15/20 || Loss:  Train 0.1208 | Validation 0.1700\n",
      "Epoch 16/20 || Loss:  Train 0.1170 | Validation 0.1625\n",
      "Epoch 17/20 || Loss:  Train 0.1164 | Validation 0.1609\n",
      "Epoch 18/20 || Loss:  Train 0.1162 | Validation 0.1605\n",
      "Epoch 19/20 || Loss:  Train 0.1157 | Validation 0.1634\n",
      "Epoch 20/20 || Loss:  Train 0.1148 | Validation 0.1616\n",
      "Doing 4 split\n",
      "Epoch 00/20 || Loss:  Train 33.7379 | Validation 32.7112\n",
      "Epoch 01/20 || Loss:  Train 0.9980 | Validation 0.7319\n",
      "Epoch 02/20 || Loss:  Train 0.3096 | Validation 0.2679\n",
      "Epoch 03/20 || Loss:  Train 0.2781 | Validation 0.2219\n",
      "Epoch 04/20 || Loss:  Train 0.2815 | Validation 0.2309\n",
      "Epoch 05/20 || Loss:  Train 0.2672 | Validation 0.2086\n",
      "Epoch 06/20 || Loss:  Train 0.2125 | Validation 0.1991\n",
      "Epoch 07/20 || Loss:  Train 0.2051 | Validation 0.1962\n",
      "Epoch 08/20 || Loss:  Train 0.2014 | Validation 0.2040\n",
      "Epoch 09/20 || Loss:  Train 0.2056 | Validation 0.2171\n",
      "Epoch 10/20 || Loss:  Train 0.1949 | Validation 0.2050\n",
      "Epoch 11/20 || Loss:  Train 0.1907 | Validation 0.1890\n",
      "Epoch 12/20 || Loss:  Train 0.1924 | Validation 0.2115\n",
      "Epoch 13/20 || Loss:  Train 0.1814 | Validation 0.1968\n",
      "Epoch 14/20 || Loss:  Train 0.1805 | Validation 0.2003\n",
      "Epoch 15/20 || Loss:  Train 0.1722 | Validation 0.1872\n",
      "Epoch 16/20 || Loss:  Train 0.1722 | Validation 0.1836\n",
      "Epoch 17/20 || Loss:  Train 0.1715 | Validation 0.1884\n",
      "Epoch 18/20 || Loss:  Train 0.1706 | Validation 0.1858\n",
      "Epoch 19/20 || Loss:  Train 0.1709 | Validation 0.1898\n",
      "Epoch 20/20 || Loss:  Train 0.1699 | Validation 0.1869\n",
      "Doing 5 split\n",
      "Epoch 00/20 || Loss:  Train 11.7677 | Validation 11.5274\n",
      "Epoch 01/20 || Loss:  Train 1.3763 | Validation 1.4029\n",
      "Epoch 02/20 || Loss:  Train 0.3153 | Validation 0.3846\n",
      "Epoch 03/20 || Loss:  Train 0.2547 | Validation 0.3362\n",
      "Epoch 04/20 || Loss:  Train 0.2379 | Validation 0.3116\n",
      "Epoch 05/20 || Loss:  Train 0.3110 | Validation 0.4216\n",
      "Epoch 06/20 || Loss:  Train 0.2126 | Validation 0.3034\n",
      "Epoch 07/20 || Loss:  Train 0.2078 | Validation 0.2989\n",
      "Epoch 08/20 || Loss:  Train 0.2094 | Validation 0.2989\n",
      "Epoch 09/20 || Loss:  Train 0.2051 | Validation 0.2983\n",
      "Epoch 10/20 || Loss:  Train 0.1995 | Validation 0.2972\n",
      "Epoch 11/20 || Loss:  Train 0.1981 | Validation 0.2957\n",
      "Epoch 12/20 || Loss:  Train 0.1954 | Validation 0.3021\n",
      "Epoch 13/20 || Loss:  Train 0.1938 | Validation 0.3027\n",
      "Epoch 14/20 || Loss:  Train 0.1879 | Validation 0.2956\n",
      "Epoch 15/20 || Loss:  Train 0.2163 | Validation 0.3425\n",
      "Epoch 16/20 || Loss:  Train 0.1840 | Validation 0.2959\n",
      "Epoch 17/20 || Loss:  Train 0.1840 | Validation 0.2926\n",
      "Epoch 18/20 || Loss:  Train 0.1831 | Validation 0.2935\n",
      "Epoch 19/20 || Loss:  Train 0.1828 | Validation 0.2938\n",
      "Epoch 20/20 || Loss:  Train 0.1825 | Validation 0.2936\n",
      "Doing 6 split\n",
      "Epoch 00/20 || Loss:  Train 11.2422 | Validation 11.7543\n",
      "Epoch 01/20 || Loss:  Train 1.5323 | Validation 1.3656\n",
      "Epoch 02/20 || Loss:  Train 0.3045 | Validation 0.2977\n",
      "Epoch 03/20 || Loss:  Train 0.2659 | Validation 0.2714\n",
      "Epoch 04/20 || Loss:  Train 0.3392 | Validation 0.4186\n",
      "Epoch 05/20 || Loss:  Train 0.2350 | Validation 0.2515\n",
      "Epoch 06/20 || Loss:  Train 0.2317 | Validation 0.2640\n",
      "Epoch 07/20 || Loss:  Train 0.2277 | Validation 0.2538\n",
      "Epoch 08/20 || Loss:  Train 0.2262 | Validation 0.2482\n",
      "Epoch 09/20 || Loss:  Train 0.2243 | Validation 0.2458\n",
      "Epoch 10/20 || Loss:  Train 0.2221 | Validation 0.2501\n",
      "Epoch 11/20 || Loss:  Train 0.2219 | Validation 0.2550\n",
      "Epoch 12/20 || Loss:  Train 0.2180 | Validation 0.2407\n",
      "Epoch 13/20 || Loss:  Train 0.2155 | Validation 0.2391\n",
      "Epoch 14/20 || Loss:  Train 0.2133 | Validation 0.2381\n",
      "Epoch 15/20 || Loss:  Train 0.2258 | Validation 0.2733\n",
      "Epoch 16/20 || Loss:  Train 0.2118 | Validation 0.2420\n",
      "Epoch 17/20 || Loss:  Train 0.2115 | Validation 0.2341\n",
      "Epoch 18/20 || Loss:  Train 0.2109 | Validation 0.2377\n",
      "Epoch 19/20 || Loss:  Train 0.2105 | Validation 0.2364\n",
      "Epoch 20/20 || Loss:  Train 0.2104 | Validation 0.2382\n",
      "Doing 7 split\n",
      "Epoch 00/20 || Loss:  Train 5.4220 | Validation 5.6415\n",
      "Epoch 01/20 || Loss:  Train 0.3263 | Validation 0.2475\n",
      "Epoch 02/20 || Loss:  Train 0.3311 | Validation 0.2659\n",
      "Epoch 03/20 || Loss:  Train 0.3019 | Validation 0.2367\n",
      "Epoch 04/20 || Loss:  Train 0.2198 | Validation 0.1574\n",
      "Epoch 05/20 || Loss:  Train 0.2846 | Validation 0.2118\n",
      "Epoch 06/20 || Loss:  Train 0.1889 | Validation 0.1427\n",
      "Epoch 07/20 || Loss:  Train 0.1847 | Validation 0.1415\n",
      "Epoch 08/20 || Loss:  Train 0.1814 | Validation 0.1421\n",
      "Epoch 09/20 || Loss:  Train 0.1749 | Validation 0.1372\n",
      "Epoch 10/20 || Loss:  Train 0.1706 | Validation 0.1360\n",
      "Epoch 11/20 || Loss:  Train 0.1672 | Validation 0.1348\n",
      "Epoch 12/20 || Loss:  Train 0.1629 | Validation 0.1322\n",
      "Epoch 13/20 || Loss:  Train 0.1592 | Validation 0.1305\n",
      "Epoch 14/20 || Loss:  Train 0.1558 | Validation 0.1276\n",
      "Epoch 15/20 || Loss:  Train 0.1511 | Validation 0.1267\n",
      "Epoch 16/20 || Loss:  Train 0.1502 | Validation 0.1256\n",
      "Epoch 17/20 || Loss:  Train 0.1503 | Validation 0.1266\n",
      "Epoch 18/20 || Loss:  Train 0.1492 | Validation 0.1251\n",
      "Epoch 19/20 || Loss:  Train 0.1486 | Validation 0.1251\n",
      "Epoch 20/20 || Loss:  Train 0.1484 | Validation 0.1252\n",
      "Doing 8 split\n",
      "Epoch 00/20 || Loss:  Train 43.4234 | Validation 44.1003\n",
      "Epoch 01/20 || Loss:  Train 3.8495 | Validation 3.9446\n",
      "Epoch 02/20 || Loss:  Train 0.3967 | Validation 0.4394\n",
      "Epoch 03/20 || Loss:  Train 0.2987 | Validation 0.3081\n",
      "Epoch 04/20 || Loss:  Train 0.2585 | Validation 0.2630\n",
      "Epoch 05/20 || Loss:  Train 0.2449 | Validation 0.2499\n",
      "Epoch 06/20 || Loss:  Train 0.2433 | Validation 0.2481\n",
      "Epoch 07/20 || Loss:  Train 0.2422 | Validation 0.2470\n",
      "Epoch 08/20 || Loss:  Train 0.2406 | Validation 0.2428\n",
      "Epoch 09/20 || Loss:  Train 0.2405 | Validation 0.2411\n",
      "Epoch 10/20 || Loss:  Train 0.2380 | Validation 0.2402\n",
      "Epoch 11/20 || Loss:  Train 0.2426 | Validation 0.2414\n",
      "Epoch 12/20 || Loss:  Train 0.2339 | Validation 0.2365\n",
      "Epoch 13/20 || Loss:  Train 0.2324 | Validation 0.2352\n",
      "Epoch 14/20 || Loss:  Train 0.2313 | Validation 0.2350\n",
      "Epoch 15/20 || Loss:  Train 0.2329 | Validation 0.2350\n",
      "Epoch 16/20 || Loss:  Train 0.2296 | Validation 0.2338\n",
      "Epoch 17/20 || Loss:  Train 0.2291 | Validation 0.2339\n",
      "Epoch 18/20 || Loss:  Train 0.2289 | Validation 0.2335\n",
      "Epoch 19/20 || Loss:  Train 0.2287 | Validation 0.2336\n",
      "Epoch 20/20 || Loss:  Train 0.2286 | Validation 0.2328\n",
      "Doing 9 split\n",
      "Epoch 00/20 || Loss:  Train 7.1562 | Validation 6.3346\n",
      "Epoch 01/20 || Loss:  Train 0.3384 | Validation 0.2449\n",
      "Epoch 02/20 || Loss:  Train 0.2784 | Validation 0.2024\n",
      "Epoch 03/20 || Loss:  Train 0.2765 | Validation 0.2186\n",
      "Epoch 04/20 || Loss:  Train 0.2193 | Validation 0.1675\n",
      "Epoch 05/20 || Loss:  Train 0.3201 | Validation 0.2574\n",
      "Epoch 06/20 || Loss:  Train 0.2156 | Validation 0.1692\n",
      "Epoch 07/20 || Loss:  Train 0.2021 | Validation 0.1586\n",
      "Epoch 08/20 || Loss:  Train 0.1965 | Validation 0.1559\n",
      "Epoch 09/20 || Loss:  Train 0.1944 | Validation 0.1562\n",
      "Epoch 10/20 || Loss:  Train 0.2046 | Validation 0.1658\n",
      "Epoch 11/20 || Loss:  Train 0.1910 | Validation 0.1539\n",
      "Epoch 12/20 || Loss:  Train 0.1789 | Validation 0.1455\n",
      "Epoch 13/20 || Loss:  Train 0.1816 | Validation 0.1515\n",
      "Epoch 14/20 || Loss:  Train 0.1721 | Validation 0.1426\n",
      "Epoch 15/20 || Loss:  Train 0.1715 | Validation 0.1445\n",
      "Epoch 16/20 || Loss:  Train 0.1645 | Validation 0.1385\n",
      "Epoch 17/20 || Loss:  Train 0.1641 | Validation 0.1383\n",
      "Epoch 18/20 || Loss:  Train 0.1637 | Validation 0.1383\n",
      "Epoch 19/20 || Loss:  Train 0.1633 | Validation 0.1380\n",
      "Epoch 20/20 || Loss:  Train 0.1632 | Validation 0.1381\n"
     ]
    }
   ],
   "source": [
    "skf = StratifiedKFold(n_splits=10, shuffle=True, random_state=42)\n",
    "cross_vall_acc_list = []\n",
    "j = 0\n",
    "for train_index, test_index in skf.split(X, y):\n",
    "    print('Doing {} split'.format(j))\n",
    "    j += 1\n",
    "    torch.manual_seed(47)\n",
    "    np.random.seed(47)\n",
    "    X_train, X_test = X[train_index], X[test_index]\n",
    "    y_train, y_test = y[train_index], y[test_index]\n",
    "    train_dataset = mri_model.MriData(X_train, y_train)\n",
    "    test_dataset = mri_model.MriData(X_test, y_test)\n",
    "    train_loader = torch_data.DataLoader(train_dataset, batch_size=45, shuffle=True)  #45 - recommended value for batchsize\n",
    "    val_loader = torch_data.DataLoader(test_dataset, batch_size=28, shuffle=False) \n",
    "\n",
    "    model = mri_model.MriNet(C).to(device)\n",
    "    criterion = nn.NLLLoss()\n",
    "    optimizer = torch.optim.Adam(model.parameters(), lr=3e-4)\n",
    "    scheduler = torch.optim.lr_scheduler.MultiStepLR(optimizer, milestones=[5, 15], gamma=0.1)\n",
    "\n",
    "    _, _, _, _ = train(EPOCHS, model, criterion, optimizer, train_loader, val_loader, device, scheduler=scheduler, save=False, verbose=True) \n",
    "    cross_vall_acc_list.append(get_accuracy(model, val_loader, device))\n"
   ]
  },
  {
   "cell_type": "code",
   "execution_count": 5,
   "metadata": {
    "colab": {
     "base_uri": "https://localhost:8080/",
     "height": 34
    },
    "colab_type": "code",
    "id": "RKbs0w6HwynW",
    "outputId": "fe1bba5a-b2ff-44c8-e43b-78bb66007fe8"
   },
   "outputs": [
    {
     "name": "stdout",
     "output_type": "stream",
     "text": [
      "Mean cross-validation accuracy (10-folds): 91.0199478149414\n",
      "Std cross-validation accuracy (10-folds): 3.2997303598339243\n"
     ]
    }
   ],
   "source": [
    "print('Mean cross-validation accuracy (10-folds):', np.mean(cross_vall_acc_list))\n",
    "print('Std cross-validation accuracy (10-folds):', np.std(cross_vall_acc_list, ddof=1))"
   ]
  },
  {
   "cell_type": "markdown",
   "metadata": {
    "colab_type": "text",
    "id": "QLX_sxmGsgI2"
   },
   "source": [
    "## Training model on whole data and saving it\n"
   ]
  },
  {
   "cell_type": "code",
   "execution_count": 10,
   "metadata": {
    "colab": {},
    "colab_type": "code",
    "id": "bSiiJhZZsf3u"
   },
   "outputs": [],
   "source": [
    "dataset = mri_model.MriData(X, y)\n",
    "loader = torch_data.DataLoader(dataset, batch_size=45, shuffle=True)  #45 - recommended value for batchsize\n",
    "\n",
    "model = mri_model.MriNet(C).to(device)\n",
    "criterion = nn.NLLLoss()\n",
    "optimizer = torch.optim.Adam(model.parameters(), lr=3e-4)\n",
    "scheduler = torch.optim.lr_scheduler.MultiStepLR(optimizer, milestones=[5, 15], gamma=0.1)\n",
    "_, _, _, _ = train(EPOCHS, model, criterion, optimizer, loader, loader, device, scheduler=scheduler, save=True, verbose=False,CHECKPOINTS_DIR=CHECKPOINTS_DIR, prefix='_all')\n",
    "\n",
    "model = MriNetGrad(C).to(device)\n",
    "criterion = nn.CrossEntropyLoss()\n",
    "optimizer = torch.optim.Adam(model.parameters(), lr=3e-4)\n",
    "scheduler = torch.optim.lr_scheduler.MultiStepLR(optimizer, milestones=[5, 15], gamma=0.1)\n",
    "_, _, _, _ = train(EPOCHS, model, criterion, optimizer, loader, loader, device, scheduler=scheduler, save=True, verbose=False,CHECKPOINTS_DIR=CHECKPOINTS_DIR, prefix='_all_grad') "
   ]
  }
 ],
 "metadata": {
  "accelerator": "GPU",
  "colab": {
   "collapsed_sections": [],
   "machine_shape": "hm",
   "name": "training_model.ipynb",
   "provenance": [],
   "toc_visible": true
  },
  "kernelspec": {
   "display_name": "Python 3",
   "language": "python",
   "name": "python3"
  },
  "language_info": {
   "codemirror_mode": {
    "name": "ipython",
    "version": 3
   },
   "file_extension": ".py",
   "mimetype": "text/x-python",
   "name": "python",
   "nbconvert_exporter": "python",
   "pygments_lexer": "ipython3",
   "version": "3.7.7"
  }
 },
 "nbformat": 4,
 "nbformat_minor": 4
}
