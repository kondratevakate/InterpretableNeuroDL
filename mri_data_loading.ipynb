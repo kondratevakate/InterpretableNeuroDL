{
 "cells": [
  {
   "cell_type": "code",
   "execution_count": 2,
   "metadata": {
    "colab": {},
    "colab_type": "code",
    "id": "TbVC-fIYcwoA"
   },
   "outputs": [],
   "source": [
    "#!pip install torchio\n",
    "#!pip install nilearn\n",
    "\n",
    "import numpy as np\n",
    "import matplotlib.pyplot as plt\n",
    "import pandas as pd\n",
    "import torch\n",
    "# import torchio\n",
    "import os\n",
    "import nilearn\n",
    "from sklearn.model_selection import train_test_split\n",
    "from skimage.transform import resize\n",
    "\n",
    "\n",
    "%matplotlib inline"
   ]
  },
  {
   "cell_type": "code",
   "execution_count": 0,
   "metadata": {
    "colab": {},
    "colab_type": "code",
    "id": "gOq_O1sRc4Y5"
   },
   "outputs": [],
   "source": [
    "PATH_TO_MRI = './drive/My Drive/mri_data/Project/data/'\n",
    "SCALE = [58, 70, 58]\n"
   ]
  },
  {
   "cell_type": "code",
   "execution_count": 0,
   "metadata": {
    "colab": {},
    "colab_type": "code",
    "id": "lBWPkt7SuenE"
   },
   "outputs": [],
   "source": [
    "#getting labels\n",
    "\n",
    "targets = pd.read_csv('./drive/My Drive/mri_data/Project/Target.csv')\n",
    "y = pd.get_dummies(targets, columns=['Gender'])['Gender_M'].values"
   ]
  },
  {
   "cell_type": "code",
   "execution_count": 0,
   "metadata": {
    "colab": {},
    "colab_type": "code",
    "id": "cP4TQRWA5fOX"
   },
   "outputs": [],
   "source": []
  },
  {
   "cell_type": "code",
   "execution_count": 0,
   "metadata": {
    "colab": {},
    "colab_type": "code",
    "id": "_-cyVCFa8IB-"
   },
   "outputs": [],
   "source": []
  },
  {
   "cell_type": "code",
   "execution_count": 0,
   "metadata": {
    "colab": {},
    "colab_type": "code",
    "id": "z1bUomKFv9kH"
   },
   "outputs": [],
   "source": [
    "#getting mri_data\n",
    "imgs = []\n",
    "\n",
    "for i, img_name in enumerate(sorted(os.listdir(PATH_TO_MRI))):\n",
    "    img = nilearn.image.load_img(PATH_TO_MRI+img_name)\n",
    "    imgs.append(resize(nilearn.image.get_data(img), SCALE))\n",
    "    if i%25 == 0:\n",
    "        print('{} iteration is finished.'.format(i))\n",
    "    \n",
    "X = np.stack(imgs)\n",
    "del imgs #deleting for freeing space on disc\n",
    "X.shape"
   ]
  },
  {
   "cell_type": "code",
   "execution_count": 0,
   "metadata": {
    "colab": {},
    "colab_type": "code",
    "id": "Ng1IcCer9NSG"
   },
   "outputs": [],
   "source": []
  },
  {
   "cell_type": "code",
   "execution_count": 0,
   "metadata": {
    "colab": {},
    "colab_type": "code",
    "id": "hjalzY4ZylGC"
   },
   "outputs": [],
   "source": [
    "class MriData(torch.utils.data.Dataset):\n",
    "    def __init__(self, X, y):\n",
    "        super(MriData, self).__init__()\n",
    "        self.X = torch.tensor(X, dtype=torch.float32)\n",
    "        self.y = torch.tensor(y, dtype=torch.float32)\n",
    "    \n",
    "    def __len__(self):\n",
    "        return self.X.shape[0]\n",
    "    \n",
    "    def __getitem__(self, idx):\n",
    "        return self.X[idx], self.y[idx]"
   ]
  },
  {
   "cell_type": "code",
   "execution_count": 0,
   "metadata": {
    "colab": {},
    "colab_type": "code",
    "id": "SbrgLdjw3uKQ"
   },
   "outputs": [],
   "source": [
    "X_train, X_test, y_train, y_test = train_test_split(X, y, test_size=0.2) #may be that's bad idea to split using train_test_split. Instead of it - use indexes of data\n",
    "#del X, y #deleting for freeing space on disc"
   ]
  },
  {
   "cell_type": "code",
   "execution_count": 0,
   "metadata": {
    "colab": {},
    "colab_type": "code",
    "id": "qqWiIG3Wygpa"
   },
   "outputs": [],
   "source": [
    "train_dataset = MriData(X_train, y_train)\n",
    "test_dataset = MriData(X_test, y_test)\n",
    "#del X_train, X_test, y_train, y_test. #deleting for freeing space on disc"
   ]
  },
  {
   "cell_type": "code",
   "execution_count": 0,
   "metadata": {
    "colab": {},
    "colab_type": "code",
    "id": "BttsN8kG3YyG"
   },
   "outputs": [],
   "source": [
    "train_loader = torch.utils.data.DataLoader(train_dataset, batch_size=28, shuffle=True) \n",
    "val_loader = torch.utils.data.DataLoader(test_dataset, batch_size=28, shuffle=False) "
   ]
  },
  {
   "cell_type": "code",
   "execution_count": 0,
   "metadata": {
    "colab": {},
    "colab_type": "code",
    "id": "YTbF3NuselOt"
   },
   "outputs": [],
   "source": []
  }
 ],
 "metadata": {
  "accelerator": "GPU",
  "colab": {
   "name": "mri_data.ipynb",
   "provenance": [],
   "toc_visible": true
  },
  "kernelspec": {
   "display_name": "Python 3",
   "language": "python",
   "name": "python3"
  },
  "language_info": {
   "codemirror_mode": {
    "name": "ipython",
    "version": 3
   },
   "file_extension": ".py",
   "mimetype": "text/x-python",
   "name": "python",
   "nbconvert_exporter": "python",
   "pygments_lexer": "ipython3",
   "version": "3.7.3"
  }
 },
 "nbformat": 4,
 "nbformat_minor": 1
}
